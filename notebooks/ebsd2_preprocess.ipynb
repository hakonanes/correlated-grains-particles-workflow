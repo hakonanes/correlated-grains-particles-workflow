{
 "cells": [
  {
   "cell_type": "markdown",
   "id": "d951f637-54a7-4dda-9f76-ccdb900ad1e1",
   "metadata": {},
   "source": [
    "# Pre-process EBSD patterns from an Al-Mn alloy\n",
    "\n",
    "Håkon Wiik Ånes (hakon.w.anes@ntnu.no)"
   ]
  },
  {
   "cell_type": "code",
   "execution_count": 59,
   "id": "dd9a1423-ca4d-4c14-b4f8-9d45fda369c5",
   "metadata": {},
   "outputs": [
    {
     "name": "stdout",
     "output_type": "stream",
     "text": [
      "Run date:  2022-03-28\n",
      "\n",
      "Software versions\n",
      "------------------\n",
      "dask : 2022.3.0\n",
      "diffpy.structure : 3.0.1\n",
      "diffsims : 0.4.2\n",
      "hyperspy : 1.6.5\n",
      "kikuchipy : 0.5.7\n",
      "matplotlib : 3.4.3\n",
      "numpy : 1.21.5\n",
      "pyebsdindex : 0.1rc1\n",
      "orix : 0.8.2\n"
     ]
    }
   ],
   "source": [
    "%matplotlib qt5\n",
    "\n",
    "from datetime import date\n",
    "import importlib_metadata\n",
    "import os\n",
    "from time import time\n",
    "\n",
    "import dask\n",
    "from diffpy.structure import Lattice, Structure\n",
    "from diffsims.crystallography import ReciprocalLatticePoint\n",
    "import hyperspy.api as hs\n",
    "import kikuchipy as kp\n",
    "import matplotlib.pyplot as plt\n",
    "import numpy as np\n",
    "from pyebsdindex import ebsd_index, pcopt\n",
    "from orix import io, plot, sampling\n",
    "from orix.crystal_map import CrystalMap, Phase, PhaseList\n",
    "from orix.quaternion import Rotation\n",
    "from orix.vector import Vector3d\n",
    "\n",
    "\n",
    "# Directories\n",
    "dset_no = 3\n",
    "dir_mp = \"/home/hakon/kode/emsoft/emdata/crystal_data\"\n",
    "dir_data = f\"/home/hakon/phd/data/p/prover/300c/{dset_no}\"\n",
    "dir_nordif = os.path.join(dir_data, \"nordif\")\n",
    "dir_kp = os.path.join(dir_data, \"kp\")\n",
    "\n",
    "# Data set specific parameters\n",
    "cal_pats_al = {1: [10, 11, 12, 13, 14], 2: [0, 6, 7, 8, 9, 10, 11], 3: [9, 10, 11, 12, 13]}\n",
    "pc0 = {1: (0.48, 0.82, 0.54), 2: (0.46, 0.85, 0.54), 3: (0.50, 0.77, 0.55)}\n",
    "\n",
    "# Matplotlib\n",
    "plt.rcParams[\"font.size\"] = 12\n",
    "savefig_kw = dict(bbox_inches=\"tight\", pad_inches=0, dpi=150)\n",
    "\n",
    "print(\"Run date: \", date.today())\n",
    "print(\"\\nSoftware versions\\n------------------\")\n",
    "for pkg in [\n",
    "    \"dask\",\n",
    "    \"diffpy.structure\",\n",
    "    \"diffsims\",\n",
    "    \"hyperspy\",\n",
    "    \"kikuchipy\",\n",
    "    \"matplotlib\",\n",
    "    \"numpy\",\n",
    "    \"pyebsdindex\",\n",
    "    \"orix\",\n",
    "]:\n",
    "    if pkg == \"numpy\":\n",
    "        ver = np.__version__\n",
    "    else:\n",
    "        ver = importlib_metadata.version(pkg)\n",
    "    print(pkg, \":\", ver)"
   ]
  },
  {
   "cell_type": "markdown",
   "id": "d97e4a7e-1ea2-4388-9e34-3fdfc7510d91",
   "metadata": {
    "tags": []
   },
   "source": [
    "# Pre-correction maps"
   ]
  },
  {
   "cell_type": "markdown",
   "id": "d704eab2-af4e-432c-951e-ffb1dbf9b3d7",
   "metadata": {},
   "source": [
    "Load data lazily (not into RAM)"
   ]
  },
  {
   "cell_type": "code",
   "execution_count": 46,
   "id": "ebadffb9-2b1b-449f-80f9-29234e6c9ce1",
   "metadata": {},
   "outputs": [
    {
     "name": "stdout",
     "output_type": "stream",
     "text": [
      "<Axes manager, axes: (853, 853|96, 96)>\n",
      "            Name |   size |  index |  offset |   scale |  units \n",
      "================ | ====== | ====== | ======= | ======= | ====== \n",
      "               x |    853 |      0 |       0 |     0.1 |     um \n",
      "               y |    853 |      0 |       0 |     0.1 |     um \n",
      "---------------- | ------ | ------ | ------- | ------- | ------ \n",
      "              dx |     96 |        |       0 |       1 |     um \n",
      "              dy |     96 |        |       0 |       1 |     um \n"
     ]
    }
   ],
   "source": [
    "s = kp.load(os.path.join(dir_kp, \"patterns_dewrap.h5\"), lazy=True)\n",
    "sig_shape = s.axes_manager.signal_shape[::-1]\n",
    "print(s.axes_manager)"
   ]
  },
  {
   "cell_type": "markdown",
   "id": "c564a705-a1c4-46bc-b678-0b9c8ec0fd84",
   "metadata": {},
   "source": [
    "Mean intensity map"
   ]
  },
  {
   "cell_type": "code",
   "execution_count": 47,
   "id": "7a496513-aab2-436b-a541-d8280df03663",
   "metadata": {},
   "outputs": [
    {
     "name": "stdout",
     "output_type": "stream",
     "text": [
      "[########################################] | 100% Completed | 17.1s\n"
     ]
    }
   ],
   "source": [
    "s_mean = s.mean(axis=s.axes_manager.signal_axes)\n",
    "s_mean.compute()"
   ]
  },
  {
   "cell_type": "code",
   "execution_count": 48,
   "id": "0af64e88-fb28-4b31-ba34-fb3dc90e3030",
   "metadata": {},
   "outputs": [],
   "source": [
    "# Unprocessed map\n",
    "map_mean1 = s_mean.data\n",
    "plt.imsave(os.path.join(dir_kp, \"maps_mean.png\"), map_mean1, cmap=\"gray\")\n",
    "\n",
    "# Contrast stretched map\n",
    "percentiles = np.percentile(map_mean1, q=(1, 99))\n",
    "map_mean2 = kp.pattern.rescale_intensity(map_mean1, in_range=percentiles)\n",
    "plt.imsave(os.path.join(dir_kp, \"maps_mean_q1_q99.png\"), map_mean2, cmap=\"gray\")"
   ]
  },
  {
   "cell_type": "markdown",
   "id": "3de9986e-de9f-47bf-94c8-e4f98ea120e4",
   "metadata": {},
   "source": [
    "Virtual backscatter electron images"
   ]
  },
  {
   "cell_type": "code",
   "execution_count": 5,
   "id": "ec1adea6-ab91-4b87-b18f-1023614b83c0",
   "metadata": {},
   "outputs": [],
   "source": [
    "vbse_gen = kp.generators.VirtualBSEGenerator(s)"
   ]
  },
  {
   "cell_type": "markdown",
   "id": "eee3fcbd-df3c-406d-a6ab-9481a7803235",
   "metadata": {},
   "source": [
    "RGB image"
   ]
  },
  {
   "cell_type": "code",
   "execution_count": 7,
   "id": "cfca6bf9-cc4e-4162-b935-d5ac3696930b",
   "metadata": {},
   "outputs": [
    {
     "data": {
      "image/png": "[encoded data removed]",
      "text/plain": [
       "<Figure size 432x385.714 with 2 Axes>"
      ]
     },
     "metadata": {
      "needs_background": "light"
     },
     "output_type": "display_data"
    }
   ],
   "source": [
    "vbse_gen.grid_shape = (5, 5)\n",
    "red = (2, 1)\n",
    "green = (2, 2)\n",
    "blue = (2, 3)\n",
    "vbse_grid_plot = vbse_gen.plot_grid(\n",
    "    rgb_channels=[red, green, blue], pattern_idx=(0, 0)\n",
    ")\n",
    "vbse_grid_plot._plot.signal_plot.figure.savefig(\n",
    "    os.path.join(dir_kp, \"vbse5x5_grid_plot.png\"), **savefig_kw\n",
    ")"
   ]
  },
  {
   "cell_type": "code",
   "execution_count": 8,
   "id": "ba4840fb-9c5d-4e8d-9935-308d924b63bf",
   "metadata": {
    "tags": []
   },
   "outputs": [
    {
     "name": "stderr",
     "output_type": "stream",
     "text": [
      "2022-03-28 17:09:20,625 - hyperspy.io - WARNING - `signal_type='VirtualBSEImage'` not understood. See `hs.print_known_signal_types()` for a list of installed signal types or https://github.com/hyperspy/hyperspy-extensions-list for the list of all hyperspy extensions providing signals.\n",
      "2022-03-28 17:09:31,686 - hyperspy.io - WARNING - `signal_type='VirtualBSEImage'` not understood. See `hs.print_known_signal_types()` for a list of installed signal types or https://github.com/hyperspy/hyperspy-extensions-list for the list of all hyperspy extensions providing signals.\n",
      "2022-03-28 17:09:37,257 - hyperspy.io - WARNING - `signal_type='VirtualBSEImage'` not understood. See `hs.print_known_signal_types()` for a list of installed signal types or https://github.com/hyperspy/hyperspy-extensions-list for the list of all hyperspy extensions providing signals.\n"
     ]
    },
    {
     "name": "stdin",
     "output_type": "stream",
     "text": [
      "Overwrite '/home/hakon/phd/data/p/prover/300c/2/kp/vbse5x5_rgb.png' (y/n)?\n",
      " y\n"
     ]
    }
   ],
   "source": [
    "vbse_rgb = vbse_gen.get_rgb_image(r=red, g=green, b=blue)\n",
    "vbse_rgb.save(os.path.join(dir_kp, \"vbse5x5_rgb.png\"))"
   ]
  },
  {
   "cell_type": "markdown",
   "id": "630014d2-64e0-402b-87ae-8ee50abc7f4f",
   "metadata": {},
   "source": [
    "Grid"
   ]
  },
  {
   "cell_type": "code",
   "execution_count": 11,
   "id": "fc2d2073-9f47-4f72-b109-4054d4090b3f",
   "metadata": {
    "tags": []
   },
   "outputs": [
    {
     "name": "stderr",
     "output_type": "stream",
     "text": [
      "2022-03-28 16:37:19,677 - hyperspy.io - WARNING - `signal_type='VirtualBSEImage'` not understood. See `hs.print_known_signal_types()` for a list of installed signal types or https://github.com/hyperspy/hyperspy-extensions-list for the list of all hyperspy extensions providing signals.\n",
      "2022-03-28 16:37:25,176 - hyperspy.io - WARNING - `signal_type='VirtualBSEImage'` not understood. See `hs.print_known_signal_types()` for a list of installed signal types or https://github.com/hyperspy/hyperspy-extensions-list for the list of all hyperspy extensions providing signals.\n",
      "2022-03-28 16:37:30,235 - hyperspy.io - WARNING - `signal_type='VirtualBSEImage'` not understood. See `hs.print_known_signal_types()` for a list of installed signal types or https://github.com/hyperspy/hyperspy-extensions-list for the list of all hyperspy extensions providing signals.\n",
      "2022-03-28 16:37:34,868 - hyperspy.io - WARNING - `signal_type='VirtualBSEImage'` not understood. See `hs.print_known_signal_types()` for a list of installed signal types or https://github.com/hyperspy/hyperspy-extensions-list for the list of all hyperspy extensions providing signals.\n",
      "2022-03-28 16:37:39,565 - hyperspy.io - WARNING - `signal_type='VirtualBSEImage'` not understood. See `hs.print_known_signal_types()` for a list of installed signal types or https://github.com/hyperspy/hyperspy-extensions-list for the list of all hyperspy extensions providing signals.\n",
      "2022-03-28 16:37:44,188 - hyperspy.io - WARNING - `signal_type='VirtualBSEImage'` not understood. See `hs.print_known_signal_types()` for a list of installed signal types or https://github.com/hyperspy/hyperspy-extensions-list for the list of all hyperspy extensions providing signals.\n",
      "2022-03-28 16:37:48,783 - hyperspy.io - WARNING - `signal_type='VirtualBSEImage'` not understood. See `hs.print_known_signal_types()` for a list of installed signal types or https://github.com/hyperspy/hyperspy-extensions-list for the list of all hyperspy extensions providing signals.\n",
      "2022-03-28 16:37:53,402 - hyperspy.io - WARNING - `signal_type='VirtualBSEImage'` not understood. See `hs.print_known_signal_types()` for a list of installed signal types or https://github.com/hyperspy/hyperspy-extensions-list for the list of all hyperspy extensions providing signals.\n",
      "2022-03-28 16:37:57,985 - hyperspy.io - WARNING - `signal_type='VirtualBSEImage'` not understood. See `hs.print_known_signal_types()` for a list of installed signal types or https://github.com/hyperspy/hyperspy-extensions-list for the list of all hyperspy extensions providing signals.\n",
      "2022-03-28 16:38:02,561 - hyperspy.io - WARNING - `signal_type='VirtualBSEImage'` not understood. See `hs.print_known_signal_types()` for a list of installed signal types or https://github.com/hyperspy/hyperspy-extensions-list for the list of all hyperspy extensions providing signals.\n",
      "2022-03-28 16:38:07,107 - hyperspy.io - WARNING - `signal_type='VirtualBSEImage'` not understood. See `hs.print_known_signal_types()` for a list of installed signal types or https://github.com/hyperspy/hyperspy-extensions-list for the list of all hyperspy extensions providing signals.\n",
      "2022-03-28 16:38:11,657 - hyperspy.io - WARNING - `signal_type='VirtualBSEImage'` not understood. See `hs.print_known_signal_types()` for a list of installed signal types or https://github.com/hyperspy/hyperspy-extensions-list for the list of all hyperspy extensions providing signals.\n",
      "2022-03-28 16:38:16,198 - hyperspy.io - WARNING - `signal_type='VirtualBSEImage'` not understood. See `hs.print_known_signal_types()` for a list of installed signal types or https://github.com/hyperspy/hyperspy-extensions-list for the list of all hyperspy extensions providing signals.\n",
      "2022-03-28 16:38:20,741 - hyperspy.io - WARNING - `signal_type='VirtualBSEImage'` not understood. See `hs.print_known_signal_types()` for a list of installed signal types or https://github.com/hyperspy/hyperspy-extensions-list for the list of all hyperspy extensions providing signals.\n",
      "2022-03-28 16:38:25,272 - hyperspy.io - WARNING - `signal_type='VirtualBSEImage'` not understood. See `hs.print_known_signal_types()` for a list of installed signal types or https://github.com/hyperspy/hyperspy-extensions-list for the list of all hyperspy extensions providing signals.\n",
      "2022-03-28 16:38:29,830 - hyperspy.io - WARNING - `signal_type='VirtualBSEImage'` not understood. See `hs.print_known_signal_types()` for a list of installed signal types or https://github.com/hyperspy/hyperspy-extensions-list for the list of all hyperspy extensions providing signals.\n",
      "2022-03-28 16:38:34,358 - hyperspy.io - WARNING - `signal_type='VirtualBSEImage'` not understood. See `hs.print_known_signal_types()` for a list of installed signal types or https://github.com/hyperspy/hyperspy-extensions-list for the list of all hyperspy extensions providing signals.\n",
      "2022-03-28 16:38:38,913 - hyperspy.io - WARNING - `signal_type='VirtualBSEImage'` not understood. See `hs.print_known_signal_types()` for a list of installed signal types or https://github.com/hyperspy/hyperspy-extensions-list for the list of all hyperspy extensions providing signals.\n",
      "2022-03-28 16:38:43,454 - hyperspy.io - WARNING - `signal_type='VirtualBSEImage'` not understood. See `hs.print_known_signal_types()` for a list of installed signal types or https://github.com/hyperspy/hyperspy-extensions-list for the list of all hyperspy extensions providing signals.\n",
      "2022-03-28 16:38:48,013 - hyperspy.io - WARNING - `signal_type='VirtualBSEImage'` not understood. See `hs.print_known_signal_types()` for a list of installed signal types or https://github.com/hyperspy/hyperspy-extensions-list for the list of all hyperspy extensions providing signals.\n",
      "2022-03-28 16:38:52,569 - hyperspy.io - WARNING - `signal_type='VirtualBSEImage'` not understood. See `hs.print_known_signal_types()` for a list of installed signal types or https://github.com/hyperspy/hyperspy-extensions-list for the list of all hyperspy extensions providing signals.\n",
      "2022-03-28 16:38:57,108 - hyperspy.io - WARNING - `signal_type='VirtualBSEImage'` not understood. See `hs.print_known_signal_types()` for a list of installed signal types or https://github.com/hyperspy/hyperspy-extensions-list for the list of all hyperspy extensions providing signals.\n",
      "2022-03-28 16:39:01,707 - hyperspy.io - WARNING - `signal_type='VirtualBSEImage'` not understood. See `hs.print_known_signal_types()` for a list of installed signal types or https://github.com/hyperspy/hyperspy-extensions-list for the list of all hyperspy extensions providing signals.\n",
      "2022-03-28 16:39:06,283 - hyperspy.io - WARNING - `signal_type='VirtualBSEImage'` not understood. See `hs.print_known_signal_types()` for a list of installed signal types or https://github.com/hyperspy/hyperspy-extensions-list for the list of all hyperspy extensions providing signals.\n",
      "2022-03-28 16:39:10,795 - hyperspy.io - WARNING - `signal_type='VirtualBSEImage'` not understood. See `hs.print_known_signal_types()` for a list of installed signal types or https://github.com/hyperspy/hyperspy-extensions-list for the list of all hyperspy extensions providing signals.\n"
     ]
    }
   ],
   "source": [
    "vbse_grid = vbse_gen.get_images_from_grid()"
   ]
  },
  {
   "cell_type": "code",
   "execution_count": 12,
   "id": "bddd45bd-fb5b-4f99-b5b4-ca1c2232ba09",
   "metadata": {},
   "outputs": [],
   "source": [
    "for idx in np.ndindex(vbse_grid.axes_manager.navigation_shape):\n",
    "    plt.imsave(\n",
    "        os.path.join(dir_kp, f\"vbse5x5_y{idx[1]}x{idx[0]}.png\"),\n",
    "        arr=vbse_grid.inav[idx].data,\n",
    "        cmap=\"gray\"\n",
    "    )"
   ]
  },
  {
   "cell_type": "markdown",
   "id": "eedb46a0-ba0d-41ba-a581-4aa5e2bd7e12",
   "metadata": {},
   "source": [
    "Background correction"
   ]
  },
  {
   "cell_type": "code",
   "execution_count": 17,
   "id": "6a8a6cb5-5b2a-4b44-a55b-e2620a1ac268",
   "metadata": {},
   "outputs": [],
   "source": [
    "s.remove_static_background()"
   ]
  },
  {
   "cell_type": "code",
   "execution_count": 18,
   "id": "6c0a1c34-2ffd-43c7-90ab-074f728277ac",
   "metadata": {},
   "outputs": [],
   "source": [
    "s.remove_dynamic_background()"
   ]
  },
  {
   "cell_type": "code",
   "execution_count": 19,
   "id": "5ebc8797-ac04-4cdd-9bc3-2b57c8f4578f",
   "metadata": {},
   "outputs": [],
   "source": [
    "w = kp.filters.Window(window=\"gaussian\", shape=(3, 3), std=1)\n",
    "s.average_neighbour_patterns(window=w)"
   ]
  },
  {
   "cell_type": "code",
   "execution_count": 20,
   "id": "45de724f-32c8-4a22-9ea6-2a80de6a6c55",
   "metadata": {},
   "outputs": [
    {
     "name": "stdout",
     "output_type": "stream",
     "text": [
      "6.728586169083913 min\n"
     ]
    }
   ],
   "source": [
    "t0 = time()\n",
    "s.save(os.path.join(dir_kp, \"pattern_sda.h5\"))\n",
    "print((time() - t0) / 60, \"min\")"
   ]
  },
  {
   "cell_type": "markdown",
   "id": "4c953a54-7aa4-4f03-b37f-a1b197c099a2",
   "metadata": {},
   "source": [
    "## Pre-indexing maps"
   ]
  },
  {
   "cell_type": "code",
   "execution_count": 13,
   "id": "4ab53d49-ea33-4c63-8f99-b1364f37384c",
   "metadata": {},
   "outputs": [
    {
     "name": "stdout",
     "output_type": "stream",
     "text": [
      "<Axes manager, axes: (919, 919|96, 96)>\n",
      "            Name |   size |  index |  offset |   scale |  units \n",
      "================ | ====== | ====== | ======= | ======= | ====== \n",
      "               x |    919 |      0 |       0 |     0.1 |     um \n",
      "               y |    919 |      0 |       0 |     0.1 |     um \n",
      "---------------- | ------ | ------ | ------- | ------- | ------ \n",
      "              dx |     96 |        |       0 |       1 |     um \n",
      "              dy |     96 |        |       0 |       1 |     um \n"
     ]
    }
   ],
   "source": [
    "s = kp.load(os.path.join(dir_kp, \"pattern_sda.h5\"), lazy=True)\n",
    "print(s.axes_manager)"
   ]
  },
  {
   "cell_type": "code",
   "execution_count": 29,
   "id": "134d9118-d270-487c-801d-948f3f30ed23",
   "metadata": {},
   "outputs": [],
   "source": [
    "iq = s.get_image_quality()\n",
    "adp = s.get_average_neighbour_dot_product_map()"
   ]
  },
  {
   "cell_type": "code",
   "execution_count": 27,
   "id": "24054eaf-2ec3-4e1e-a97d-b85b3f7fa17f",
   "metadata": {},
   "outputs": [],
   "source": [
    "plt.imsave(os.path.join(dir_kp, \"maps_iq.png\"), arr=iq, cmap=\"gray\")\n",
    "plt.imsave(os.path.join(dir_kp, \"maps_adp.png\"), arr=adp, cmap=\"gray\")"
   ]
  },
  {
   "cell_type": "markdown",
   "id": "046dbb9e-3f52-4565-bbdf-cb8af6c6fce6",
   "metadata": {},
   "source": [
    "## Projection center from PyEBSDIndex"
   ]
  },
  {
   "cell_type": "markdown",
   "id": "e77c6599",
   "metadata": {},
   "source": [
    "Load calibration patterns"
   ]
  },
  {
   "cell_type": "code",
   "execution_count": 49,
   "id": "08ea1d69-ece2-4aa7-b336-2bb94702ccf0",
   "metadata": {},
   "outputs": [],
   "source": [
    "s_cal0 = kp.load(os.path.join(dir_nordif, \"Setting.txt\"))\n",
    "sig_shape_cal = s_cal0.axes_manager.signal_shape[::-1]"
   ]
  },
  {
   "cell_type": "code",
   "execution_count": 50,
   "id": "6f3610c1",
   "metadata": {},
   "outputs": [
    {
     "name": "stdout",
     "output_type": "stream",
     "text": [
      "Removing the static background:\n",
      "[########################################] | 100% Completed |  0.1s\n",
      "Removing the dynamic background:\n",
      "[########################################] | 100% Completed |  0.1s\n"
     ]
    }
   ],
   "source": [
    "s_cal0.remove_static_background()\n",
    "s_cal0.remove_dynamic_background()"
   ]
  },
  {
   "cell_type": "code",
   "execution_count": 51,
   "id": "2032b1ee-cf45-4eb0-a546-6ee2ec586555",
   "metadata": {},
   "outputs": [],
   "source": [
    "s_cal0.plot()"
   ]
  },
  {
   "cell_type": "markdown",
   "id": "835d07c3-13e3-4686-819e-a475f107eabe",
   "metadata": {},
   "source": [
    "Extract Al calibration patterns"
   ]
  },
  {
   "cell_type": "code",
   "execution_count": 55,
   "id": "824d7704",
   "metadata": {},
   "outputs": [],
   "source": [
    "s_cal = kp.signals.EBSD(s_cal0.data[cal_pats_al[dset_no]])\n",
    "s_cal.axes_manager[0].name = \"x\"\n",
    "nav_size = s_cal.axes_manager.navigation_size"
   ]
  },
  {
   "cell_type": "markdown",
   "id": "bf5f6445-3636-42b6-954f-890bc6e5435d",
   "metadata": {},
   "source": [
    "Extract relevant metadata"
   ]
  },
  {
   "cell_type": "code",
   "execution_count": 56,
   "id": "1353490d-542b-43f8-a78d-5f1c9364f4ad",
   "metadata": {},
   "outputs": [],
   "source": [
    "md_sem = s_cal0.metadata.Acquisition_instrument.SEM\n",
    "md_ebsd = md_sem.Detector.EBSD\n",
    "sample_tilt = md_ebsd.sample_tilt  # Degrees\n",
    "camera_tilt = md_ebsd.azimuth_angle  # Degrees\n",
    "energy = md_sem.beam_energy  # kV"
   ]
  },
  {
   "cell_type": "markdown",
   "id": "9897b001-b8fe-4bf2-b559-751ea743e762",
   "metadata": {},
   "source": [
    "Generate an indexer instance with PyEBSDIndex for easy storage of relevant\n",
    "parameters used in projection center (PC) optimization"
   ]
  },
  {
   "cell_type": "code",
   "execution_count": 57,
   "id": "6ef1cc28",
   "metadata": {},
   "outputs": [],
   "source": [
    "indexer = ebsd_index.EBSDIndexer(\n",
    "    phaselist=[\"FCC\"],\n",
    "    vendor=\"EDAX\",\n",
    "    PC=None,\n",
    "    sampleTilt=sample_tilt,\n",
    "    camElev=camera_tilt,\n",
    "    patDim=sig_shape_cal[::-1]\n",
    ")"
   ]
  },
  {
   "cell_type": "markdown",
   "id": "d5651511",
   "metadata": {},
   "source": [
    "Find PC from single pattern using an initial guess, as a test"
   ]
  },
  {
   "cell_type": "code",
   "execution_count": 60,
   "id": "e03eed16",
   "metadata": {},
   "outputs": [
    {
     "name": "stdout",
     "output_type": "stream",
     "text": [
      "(0.5, 0.77, 0.55)\n",
      "[0.49562909 0.77346785 0.55503443]\n"
     ]
    }
   ],
   "source": [
    "pc0_i = pc0[dset_no]\n",
    "print(pc0_i)\n",
    "\n",
    "pc = pcopt.optimize(s_cal.inav[0].data, indexer, PC0=pc0_i)\n",
    "print(pc)"
   ]
  },
  {
   "cell_type": "markdown",
   "id": "8e9c7c0b",
   "metadata": {},
   "source": [
    "Find PC from all patterns"
   ]
  },
  {
   "cell_type": "code",
   "execution_count": 61,
   "id": "fb5951ca",
   "metadata": {},
   "outputs": [
    {
     "name": "stdout",
     "output_type": "stream",
     "text": [
      "[[0.49562909 0.77346785 0.55503443]\n",
      " [0.49913684 0.78269842 0.54435737]\n",
      " [0.498329   0.77598661 0.54274758]\n",
      " [0.50118166 0.76071044 0.54318905]\n",
      " [0.49353876 0.77587649 0.55036185]]\n",
      "[0.49756307 0.77374796 0.54713806]\n"
     ]
    }
   ],
   "source": [
    "pcs = np.zeros((nav_size, 3))\n",
    "for i in range(nav_size):\n",
    "    pcs[i] = pcopt.optimize(s_cal.inav[i].data, indexer, PC0=pc0_i)\n",
    "print(pcs)\n",
    "\n",
    "pc = pcs.mean(axis=0)\n",
    "print(pc)"
   ]
  },
  {
   "cell_type": "markdown",
   "id": "0ad3cf0e-5ff1-429a-bb87-c5da8e06fc66",
   "metadata": {},
   "source": [
    "Index calibration patterns to check PCs"
   ]
  },
  {
   "cell_type": "code",
   "execution_count": 62,
   "id": "6c5f7717",
   "metadata": {},
   "outputs": [],
   "source": [
    "data = indexer.index_pats(\n",
    "    patsin=s_cal.data,\n",
    "    patstart=0,\n",
    "    npats=-1,\n",
    "    clparams=None,\n",
    "    PC=pc,\n",
    ")\n",
    "rot = Rotation(data[0][\"quat\"][0])"
   ]
  },
  {
   "cell_type": "code",
   "execution_count": 63,
   "id": "c8630d48",
   "metadata": {},
   "outputs": [
    {
     "data": {
      "text/plain": [
       "EBSDDetector (240, 240), px_size 1 um, binning 1, tilt 0.0, azimuthal 0, pc (0.498, 0.226, 0.547)"
      ]
     },
     "execution_count": 63,
     "metadata": {},
     "output_type": "execute_result"
    }
   ],
   "source": [
    "detector = kp.detectors.EBSDDetector(\n",
    "    shape=sig_shape_cal,\n",
    "    pc=pc,  # Use average PC to reduce potential for single error upon refinement\n",
    "    sample_tilt=sample_tilt,\n",
    "    tilt=camera_tilt,\n",
    "    convention=\"edax\",\n",
    ")\n",
    "detector"
   ]
  },
  {
   "cell_type": "markdown",
   "id": "679bec5d-0590-4cc4-989d-2aedaef57a8b",
   "metadata": {},
   "source": [
    "Load Al master pattern to use in PC refinement and to extract the Al crystal structure"
   ]
  },
  {
   "cell_type": "code",
   "execution_count": 64,
   "id": "dc92261b",
   "metadata": {},
   "outputs": [],
   "source": [
    "mp = kp.load(\n",
    "    os.path.join(dir_mp, \"al\", \"al_mc_mp_20kv.h5\"),\n",
    "    projection=\"lambert\",\n",
    "    energy=energy,\n",
    "    hemisphere=\"north\",\n",
    ")\n",
    "mp.phase.name = \"al\""
   ]
  },
  {
   "cell_type": "markdown",
   "id": "a1a445ce",
   "metadata": {},
   "source": [
    "Inspect geometrical simulations"
   ]
  },
  {
   "cell_type": "code",
   "execution_count": 65,
   "id": "7778f034",
   "metadata": {},
   "outputs": [],
   "source": [
    "rlp = ReciprocalLatticePoint(phase=mp.phase, hkl=((1, 1, 1), (2, 0, 0), (2, 2, 0), (3, 1, 1)))\n",
    "rlp2 = rlp.symmetrise()\n",
    "simgen = kp.generators.EBSDSimulationGenerator(detector=detector, phase=rlp.phase, rotations=rot)\n",
    "geosim = simgen.geometrical_simulation(reciprocal_lattice_point=rlp2)\n",
    "markers = geosim.as_markers(pc=False, bands=True, zone_axes_labels=True, zone_axes=False)\n",
    "\n",
    "#del s_cal.metadata.Markers\n",
    "s_cal.add_marker(marker=markers, plot_marker=False, permanent=True)\n",
    "s_cal.plot(navigator=None)"
   ]
  },
  {
   "cell_type": "markdown",
   "id": "3aa7cb2b-1b50-4aeb-96a9-e2eca26244ac",
   "metadata": {},
   "source": [
    "Refine results from PyEBSDIndex"
   ]
  },
  {
   "cell_type": "code",
   "execution_count": 66,
   "id": "aaee5aee-9391-438e-b900-1a742852767c",
   "metadata": {},
   "outputs": [
    {
     "name": "stdout",
     "output_type": "stream",
     "text": [
      "Refinement information:\n",
      "\tLocal optimization method: Nelder-Mead (minimize)\n",
      "\tKeyword arguments passed to method: {'method': 'Nelder-Mead'}\n",
      "Refining 5 orientation(s):\n",
      "[########################################] | 100% Completed |  2.3s\n",
      "Refinement speed: 2 patterns/s\n",
      "Refinement information:\n",
      "\tLocal optimization method: Nelder-Mead (minimize)\n",
      "\tKeyword arguments passed to method: {'method': 'Nelder-Mead'}\n",
      "Refining 5 projection center(s):\n",
      "[########################################] | 100% Completed |  1.8s\n",
      "Refinement speed: 2 patterns/s\n"
     ]
    }
   ],
   "source": [
    "xmap = CrystalMap(rotations=rot, phase_list=PhaseList(mp.phase))\n",
    "\n",
    "# First refine orientations, then projection centers\n",
    "ref_kwargs = dict(detector=detector, master_pattern=mp, energy=energy)\n",
    "xmap_refined = s_cal.refine_orientation(xmap=xmap, **ref_kwargs)\n",
    "_, detector_ref = s_cal.refine_projection_center(xmap=xmap_refined, **ref_kwargs)"
   ]
  },
  {
   "cell_type": "markdown",
   "id": "43285fd8",
   "metadata": {},
   "source": [
    "Check geometrical simulations of refined orientations and PCs"
   ]
  },
  {
   "cell_type": "code",
   "execution_count": 67,
   "id": "37f7d2c6-bc82-499a-9ac0-36d04ef8d731",
   "metadata": {},
   "outputs": [],
   "source": [
    "simgen = kp.generators.EBSDSimulationGenerator(\n",
    "    detector=detector_ref, phase=mp.phase, rotations=xmap_refined.rotations,\n",
    ")\n",
    "geosim = simgen.geometrical_simulation(reciprocal_lattice_point=rlp2)\n",
    "markers = geosim.as_markers(pc=False, bands=True, zone_axes_labels=True, zone_axes=False)\n",
    "\n",
    "del s_cal.metadata.Markers\n",
    "s_cal.add_marker(marker=markers, plot_marker=False, permanent=True)\n",
    "s_cal.plot(navigator=None)"
   ]
  },
  {
   "cell_type": "code",
   "execution_count": 68,
   "id": "67bf4974-ef78-426b-9bd0-14e7976bb847",
   "metadata": {},
   "outputs": [],
   "source": [
    "np.savetxt(\n",
    "    os.path.join(dir_kp, \"cal_pcs.txt\"),\n",
    "    np.column_stack((cal_pats_al[dset_no], detector_ref.pc)),\n",
    "    fmt=\"%i %.12f %.12f %.12f\",\n",
    "    header=\"Cal. pattern, PC (x, y, z) in Bruker's convention\"\n",
    ")"
   ]
  },
  {
   "cell_type": "markdown",
   "id": "8ebc851e-3fd9-4a7e-b7d0-0f20bbf9ba86",
   "metadata": {},
   "source": [
    "## Dictionary indexing\n",
    "\n",
    "Done in a separate notebook using the above obtained PC.\n",
    "\n",
    "## Refinement\n",
    "\n",
    "Done in a separate notebook using the DI results."
   ]
  }
 ],
 "metadata": {
  "kernelspec": {
   "display_name": "Python 3 (ipykernel)",
   "language": "python",
   "name": "python3"
  },
  "language_info": {
   "codemirror_mode": {
    "name": "ipython",
    "version": 3
   },
   "file_extension": ".py",
   "mimetype": "text/x-python",
   "name": "python",
   "nbconvert_exporter": "python",
   "pygments_lexer": "ipython3",
   "version": "3.9.12"
  }
 },
 "nbformat": 4,
 "nbformat_minor": 5
}
