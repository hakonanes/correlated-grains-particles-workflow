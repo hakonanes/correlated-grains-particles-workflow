{
 "cells": [
  {
   "cell_type": "markdown",
   "metadata": {},
   "source": [
    "# Detect particles in BSE images and EBSD intensity maps\n",
    "\n",
    "Håkon Wiik Ånes (hakon.w.anes@ntnu.no)"
   ]
  },
  {
   "cell_type": "code",
   "execution_count": 33,
   "metadata": {},
   "outputs": [
    {
     "name": "stdout",
     "output_type": "stream",
     "text": [
      "Run date:  2022-04-01\n",
      "\n",
      "Software versions\n",
      "-----------------\n",
      "mapregions : 0.1.dev0\n",
      "matplotlib : 3.4.3\n",
      "numpy : 1.21.5\n",
      "orix : 0.9.dev0\n",
      "scipy : 1.8.0\n",
      "scikit-image : 0.19.2\n"
     ]
    }
   ],
   "source": [
    "%matplotlib qt5\n",
    "\n",
    "from datetime import date\n",
    "import importlib_metadata\n",
    "import os\n",
    "\n",
    "from mapregions import MapRegions\n",
    "import matplotlib.pyplot as plt\n",
    "import numpy as np\n",
    "from scipy import ndimage\n",
    "import skimage.color as skc\n",
    "import skimage.filters as skf\n",
    "from skimage.segmentation import watershed\n",
    "\n",
    "\n",
    "# Directories\n",
    "dset_no = 3\n",
    "dir_data = f\"/home/hakon/phd/data/p/prover/300c/{dset_no}\"\n",
    "dir_bse = os.path.join(dir_data, \"bse\")\n",
    "dir_kp = os.path.join(dir_data, \"kp\")\n",
    "\n",
    "# Remove zero-regions resulting from stitching of BSE images\n",
    "crop_bse_full = {\n",
    "    1: (slice(1,  3749), slice(124, 5576)),\n",
    "    2: (slice(16, 3837), slice(137, 5798)),\n",
    "    3: (slice(25, 3949), slice(50,  5289))\n",
    "}\n",
    "\n",
    "# Matplotlib\n",
    "plt.rcParams.update({\"axes.grid\": False})\n",
    "savefig_kw = dict(bbox_inches=\"tight\", pad_inches=0, dpi=300)\n",
    "\n",
    "print(\"Run date: \", date.today())\n",
    "print(\"\\nSoftware versions\\n-----------------\")\n",
    "for pkg in [\"mapregions\", \"matplotlib\", \"numpy\", \"orix\", \"scipy\", \"scikit-image\"]:\n",
    "    if pkg == \"numpy\":\n",
    "        ver = np.__version__\n",
    "    else:\n",
    "        ver = importlib_metadata.version(pkg)\n",
    "    print(pkg, \":\", ver)"
   ]
  },
  {
   "cell_type": "code",
   "execution_count": 34,
   "metadata": {},
   "outputs": [],
   "source": [
    "#data_type = \"ebsd\"\n",
    "data_type = \"bse\"\n",
    "#data_type = \"bse_full\""
   ]
  },
  {
   "cell_type": "code",
   "execution_count": 35,
   "metadata": {},
   "outputs": [],
   "source": [
    "if data_type == \"ebsd\":\n",
    "    mask = np.load(os.path.join(dir_bse, \"mask_ebsd_correct.npy\"))\n",
    "    gauss_window_size = 5\n",
    "    img_orig = plt.imread(os.path.join(dir_bse, \"ebsd_correct.png\"))\n",
    "    img2 = skc.rgb2gray(img_orig[..., :3])\n",
    "else:\n",
    "    if data_type == \"bse\":\n",
    "        img_orig = plt.imread(os.path.join(dir_bse, \"bse_rescaled.png\"))\n",
    "        img2 = skc.rgb2gray(img_orig[..., :3])\n",
    "    else:  # bse_full\n",
    "        img2 = plt.imread(os.path.join(dir_bse, \"4500x_cropped2_fused.png\"))[crop_bse_full[sample]]\n",
    "    mask = np.ones(img2.shape, dtype=bool)\n",
    "    gauss_window_size = 20"
   ]
  },
  {
   "cell_type": "markdown",
   "metadata": {},
   "source": [
    "## Detection steps\n",
    "\n",
    "### 1. Intensity processing"
   ]
  },
  {
   "cell_type": "code",
   "execution_count": 36,
   "metadata": {},
   "outputs": [],
   "source": [
    "# Flat field by subtracting long-range intensity variations\n",
    "sigma = int(np.ceil(max(img2.shape) / gauss_window_size))\n",
    "blur = ndimage.gaussian_filter(img2, sigma=sigma)\n",
    "img3 = img2 - blur"
   ]
  },
  {
   "cell_type": "code",
   "execution_count": 37,
   "metadata": {},
   "outputs": [],
   "source": [
    "# Normalize to enable thresholding independent of absolute intensities\n",
    "img = img3 - img3[mask].mean()\n",
    "img = img / np.linalg.norm(img[mask])"
   ]
  },
  {
   "cell_type": "code",
   "execution_count": 38,
   "metadata": {},
   "outputs": [],
   "source": [
    "# Inspect intensity processing\n",
    "fig, ax = plt.subplots(ncols=3, sharex=True, sharey=True)\n",
    "ax[0].imshow(img2, cmap=\"gray\")\n",
    "ax[1].imshow(blur)\n",
    "ax[2].imshow(img, cmap=\"gray\")\n",
    "for a in ax:\n",
    "    a.axis(\"off\")\n",
    "fig.tight_layout()"
   ]
  },
  {
   "cell_type": "markdown",
   "metadata": {},
   "source": [
    "### 2. Generate elevation map"
   ]
  },
  {
   "cell_type": "code",
   "execution_count": 39,
   "metadata": {},
   "outputs": [],
   "source": [
    "# Elevation map\n",
    "elevation_map = skf.sobel(img)"
   ]
  },
  {
   "cell_type": "markdown",
   "metadata": {},
   "source": [
    "### 3. Determine markers for background and particles"
   ]
  },
  {
   "cell_type": "code",
   "execution_count": 40,
   "metadata": {},
   "outputs": [],
   "source": [
    "int_range = (img[mask].min(), img[mask].max())\n",
    "diff = abs(np.diff(int_range)[0])\n",
    "\n",
    "# Threshold for markers\n",
    "threshold = skf.threshold_triangle(img[mask])\n",
    "background = threshold + 0.15 * diff\n",
    "particles = threshold + 0.25 * diff\n",
    "\n",
    "# Intensity histogram\n",
    "fig, ax = plt.subplots()\n",
    "ax.hist(img[mask].ravel(), bins=255, range=int_range);\n",
    "ax.set_xlabel(\"Intensity\")\n",
    "ax.set_ylabel(\"Frequency\")\n",
    "ax.set_xlim(int_range)\n",
    "ax.axvspan(int_range[0], background, color=\"C1\", alpha=0.5, label=\"Background\")\n",
    "ax.axvspan(particles, int_range[1], color=\"C2\", alpha=0.5, label=\"Particles\")\n",
    "ax.legend();"
   ]
  },
  {
   "cell_type": "markdown",
   "metadata": {},
   "source": [
    "### 4. Compute watershed and 5. remove holes within particles segmented from the watershed"
   ]
  },
  {
   "cell_type": "code",
   "execution_count": 41,
   "metadata": {},
   "outputs": [
    {
     "name": "stdout",
     "output_type": "stream",
     "text": [
      "4187\n"
     ]
    }
   ],
   "source": [
    "# Generate sure markers of background and particles from the extreme parts of the\n",
    "# intensity histogram\n",
    "markers = np.zeros_like(img)\n",
    "markers[img < background] = 1\n",
    "markers[img > particles] = 2\n",
    "\n",
    "# Compute the watershed transformation (computationally intensive)\n",
    "segmentation = watershed(elevation_map, markers)\n",
    "\n",
    "# Remove small holes with mathematical morphology\n",
    "segmentation = ndimage.binary_fill_holes(segmentation - 1)\n",
    "\n",
    "# Label particles\n",
    "labeled_particles, n = ndimage.label(segmentation)\n",
    "print(n)\n",
    "\n",
    "# Inspect segmentation\n",
    "#fig, ax = plt.subplots(ncols=3, sharex=True, sharey=True)\n",
    "#ax[0].imshow(img, cmap=\"gray\")\n",
    "#ax[1].imshow(markers)\n",
    "#ax[2].imshow(img, cmap=\"gray\")\n",
    "#ax[2].contour(segmentation, colors=\"r\", linewidths=0.5)\n",
    "#for a in ax:\n",
    "#    a.axis(\"off\")\n",
    "#fig.tight_layout(w_pad=0.5)"
   ]
  },
  {
   "cell_type": "markdown",
   "metadata": {},
   "source": [
    "### 6. Remove incorrectly detected particles"
   ]
  },
  {
   "cell_type": "code",
   "execution_count": 42,
   "metadata": {},
   "outputs": [],
   "source": [
    "# Remove wrongly detected particles\n",
    "regions = MapRegions(\n",
    "    label_map=labeled_particles,\n",
    "    background_label=0,\n",
    "    intensity_image=img,\n",
    ")\n",
    "\n",
    "mean_intensity = regions.mean_intensity\n",
    "roundness = regions.roundness\n",
    "solidity = regions.solidity"
   ]
  },
  {
   "cell_type": "code",
   "execution_count": 43,
   "metadata": {},
   "outputs": [],
   "source": [
    "# Check spatial distribution of rejection properties\n",
    "titles = [\"Mean intensity\", \"Roundness\", \"Solidity\"]\n",
    "fig, (ax0, ax1, ax2) = plt.subplots(ncols=3, sharex=True, sharey=True)\n",
    "ax0.imshow(regions.get_map_data(mean_intensity))\n",
    "ax1.imshow(regions.get_map_data(roundness))\n",
    "ax2.imshow(regions.get_map_data(solidity))\n",
    "for i, ax in enumerate((ax0, ax1, ax2)):\n",
    "    ax.set_title(titles[i])\n",
    "    ax.axis(\"off\")\n",
    "fig.tight_layout()"
   ]
  },
  {
   "cell_type": "code",
   "execution_count": 44,
   "metadata": {},
   "outputs": [
    {
     "name": "stdout",
     "output_type": "stream",
     "text": [
      "0.0008266974240541458 0.9972018930529631 1.6\n",
      "MapRegions: 3925\n"
     ]
    }
   ],
   "source": [
    "# Check histograms of rejection properties\n",
    "\n",
    "# Filter detected particles\n",
    "threshold_mean_intensity = np.percentile(mean_intensity, 55)\n",
    "threshold_roundness = np.percentile(roundness[roundness > 0], 25)\n",
    "threshold_solidity = np.percentile(solidity[solidity > 0], 25)\n",
    "print(threshold_mean_intensity, threshold_roundness, threshold_solidity)\n",
    "\n",
    "titles = [\"Mean intensity\", \"Roundness\", \"Solidity\"]\n",
    "# Inspect thresholds\n",
    "#fig, (ax0, ax1, ax2) = plt.subplots(ncols=3, figsize=(9, 3))\n",
    "#ax0.hist(mean_intensity, bins=100);\n",
    "#ax1.hist(roundness, bins=100);\n",
    "#ax2.hist(solidity, bins=100);\n",
    "#ax0.axvspan(threshold_mean_intensity, mean_intensity.max(), color=\"C1\", alpha=0.5, label=\"Keep\")\n",
    "#ax1.axvspan(threshold_roundness, roundness.max(), color=\"C1\", alpha=0.5, label=\"Keep\")\n",
    "#ax2.axvspan(threshold_solidity, solidity.max(), color=\"C1\", alpha=0.5, label=\"Keep\")\n",
    "#for i, ax in enumerate((ax0, ax1, ax2)):\n",
    "#    ax.set_xlabel(titles[i])\n",
    "#    ax.set_ylabel(\"Frequency\")\n",
    "#    ax.legend()\n",
    "#fig.tight_layout()\n",
    "\n",
    "keep = (\n",
    "    mean_intensity > threshold_mean_intensity,\n",
    "    roundness == 0,\n",
    "    roundness > threshold_roundness,\n",
    "    solidity == 0,\n",
    "    solidity > threshold_solidity,\n",
    ")\n",
    "\n",
    "# Reject some particles\n",
    "regions2 = regions[np.logical_or.reduce(keep)]\n",
    "print(regions2)"
   ]
  },
  {
   "cell_type": "code",
   "execution_count": 45,
   "metadata": {},
   "outputs": [],
   "source": [
    "# Check plot of rejected particles\n",
    "lw = plt.rcParams[\"lines.linewidth\"]\n",
    "plt.rcParams[\"lines.linewidth\"] = 0.5\n",
    "\n",
    "contour_kwds = dict(zorder=2)\n",
    "fig, ax = plt.subplots(sharex=True, sharey=True)\n",
    "ax.imshow(regions.intensity_image, cmap=\"gray\")\n",
    "ax.contour(~regions.is_background_map, colors=\"red\", **contour_kwds)\n",
    "ax.contour(~regions2.is_background_map, colors=\"lime\", **contour_kwds)\n",
    "ax.axis(\"off\")\n",
    "fig.tight_layout()\n",
    "\n",
    "plt.rcParams[\"lines.linewidth\"] = lw"
   ]
  },
  {
   "cell_type": "code",
   "execution_count": 46,
   "metadata": {},
   "outputs": [],
   "source": [
    "# Save labeled particles to file\n",
    "if data_type == \"ebsd\":\n",
    "    np.save(os.path.join(dir_bse, \"ebsd_labels_filled\"), labeled_particles)\n",
    "elif data_type == \"bse\":\n",
    "    np.save(os.path.join(dir_bse, \"bse_labels_filled_filtered\"), regions2.label_map)\n",
    "else:  # bse_full\n",
    "    np.save(os.path.join(dir_bse, \"bse_full_labels_filled_filtered\"), regions2.label_map)"
   ]
  }
 ],
 "metadata": {
  "kernelspec": {
   "display_name": "Python 3 (ipykernel)",
   "language": "python",
   "name": "python3"
  },
  "language_info": {
   "codemirror_mode": {
    "name": "ipython",
    "version": 3
   },
   "file_extension": ".py",
   "mimetype": "text/x-python",
   "name": "python",
   "nbconvert_exporter": "python",
   "pygments_lexer": "ipython3",
   "version": "3.9.12"
  }
 },
 "nbformat": 4,
 "nbformat_minor": 4
}
