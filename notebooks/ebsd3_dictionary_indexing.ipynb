{
 "cells": [
  {
   "cell_type": "markdown",
   "id": "aae608cd-d5f5-435c-95af-329b5602ce66",
   "metadata": {},
   "source": [
    "# Dictionary indexing of EBSD patterns from an Al-Mn alloy\n",
    "\n",
    "Håkon Wiik Ånes (hakon.w.anes@ntnu.no)"
   ]
  },
  {
   "cell_type": "code",
   "execution_count": 1,
   "id": "58dde795-a0fa-4b27-a856-77d6b7e1a910",
   "metadata": {},
   "outputs": [
    {
     "name": "stdout",
     "output_type": "stream",
     "text": [
      "Run date:  2022-03-28\n",
      "\n",
      "Software versions\n",
      "------------------\n",
      "kikuchipy : 0.5.7\n",
      "matplotlib : 3.4.3\n",
      "numpy : 1.21.5\n",
      "orix : 0.8.2\n"
     ]
    }
   ],
   "source": [
    "%matplotlib qt5\n",
    "\n",
    "from datetime import date\n",
    "import importlib_metadata\n",
    "import os\n",
    "\n",
    "import kikuchipy as kp\n",
    "import matplotlib.pyplot as plt\n",
    "import numpy as np\n",
    "from orix import io, plot, sampling\n",
    "from orix.vector import Vector3d\n",
    "\n",
    "\n",
    "# Directories\n",
    "dset_no = 1\n",
    "dir_user = \"C:/Users/hakonwii\"\n",
    "dir_mp = os.path.join(dir_user, \"ebsd_simulations\")\n",
    "dir_data = os.path.join(dir_user, \"p/300c\", str(dset_no))\n",
    "\n",
    "# Matplotlib\n",
    "plt.rcParams[\"font.size\"] = 12\n",
    "savefig_kw = dict(bbox_inches=\"tight\", pad_inches=0, dpi=150)\n",
    "\n",
    "print(\"Run date: \", date.today())\n",
    "print(\"\\nSoftware versions\\n------------------\")\n",
    "for pkg in [\"kikuchipy\", \"matplotlib\", \"numpy\", \"orix\"]:\n",
    "    if pkg == \"numpy\":\n",
    "        ver = np.__version__\n",
    "    else:\n",
    "        ver = importlib_metadata.version(pkg)\n",
    "    print(pkg, \":\", ver)"
   ]
  },
  {
   "cell_type": "markdown",
   "id": "7c1a321c-737d-4f83-8282-44d3d588ef63",
   "metadata": {},
   "source": [
    "## Set up indexing"
   ]
  },
  {
   "cell_type": "markdown",
   "id": "58fb6d33-5fd0-4c8b-b45e-3ffea04c343c",
   "metadata": {},
   "source": [
    "Load data lazily (not into RAM)"
   ]
  },
  {
   "cell_type": "code",
   "execution_count": 2,
   "id": "6ef4cbf1-4802-4c7a-87ce-f4b979128e49",
   "metadata": {},
   "outputs": [
    {
     "name": "stdout",
     "output_type": "stream",
     "text": [
      "<Axes manager, axes: (919, 919|96, 96)>\n",
      "            Name |   size |  index |  offset |   scale |  units \n",
      "================ | ====== | ====== | ======= | ======= | ====== \n",
      "               x |    919 |      0 |       0 |     0.1 |     um \n",
      "               y |    919 |      0 |       0 |     0.1 |     um \n",
      "---------------- | ------ | ------ | ------- | ------- | ------ \n",
      "              dx |     96 |        |       0 |       1 |     um \n",
      "              dy |     96 |        |       0 |       1 |     um \n"
     ]
    }
   ],
   "source": [
    "s = kp.load(os.path.join(dir_data, \"pattern_sda.h5\"), lazy=True)\n",
    "sig_shape = s.axes_manager.signal_shape[::-1]\n",
    "print(s.axes_manager)"
   ]
  },
  {
   "cell_type": "markdown",
   "id": "e6832c6c-b515-4fc5-bc8f-444f12d216ff",
   "metadata": {},
   "source": [
    "Extract relevant metadata"
   ]
  },
  {
   "cell_type": "code",
   "execution_count": null,
   "id": "77dcce4f-906c-4f46-8f47-ac736acaa1b7",
   "metadata": {},
   "outputs": [],
   "source": [
    "md_sem = s.metadata.Acquisition_instrument.SEM\n",
    "md_ebsd = md_sem.Detector.EBSD\n",
    "sample_tilt = md_ebsd.sample_tilt  # Degrees\n",
    "camera_tilt = md_ebsd.azimuth_angle  # Degrees\n",
    "energy = md_sem.beam_energy  # kV"
   ]
  },
  {
   "cell_type": "markdown",
   "id": "9326f002-bd51-44b9-8e5c-0877dcac20d4",
   "metadata": {},
   "source": [
    "Define detector's view of the sample, using the average projection center (PC)\n",
    "found from optimization with `PyEBSDIndex`"
   ]
  },
  {
   "cell_type": "code",
   "execution_count": 3,
   "id": "e571d02a-9957-4ae2-8afe-b2c32e984408",
   "metadata": {},
   "outputs": [
    {
     "data": {
      "text/plain": [
       "EBSDDetector (96, 96), px_size 1 um, binning 1, tilt 0, azimuthal 0, pc (0.488, 0.188, 0.546)"
      ]
     },
     "execution_count": 3,
     "metadata": {},
     "output_type": "execute_result"
    }
   ],
   "source": [
    "pcs = np.loadtxt(os.path.join(dir_data, \"cal_pcs.txt\"), usecols=[1, 2, 3])\n",
    "pc = pcs.mean(axis=0)\n",
    "print(pc)\n",
    "\n",
    "detector = kp.detectors.EBSDDetector(\n",
    "    shape=sig_shape,\n",
    "    pc=pc,\n",
    "    sample_tilt=sample_tilt,\n",
    "    tilt=camera_tilt,\n",
    "    convention=\"edax\",\n",
    ")\n",
    "detector"
   ]
  },
  {
   "cell_type": "markdown",
   "id": "fb36246e-21b3-4285-815c-9678dbef761c",
   "metadata": {},
   "source": [
    "Check PC"
   ]
  },
  {
   "cell_type": "code",
   "execution_count": 4,
   "id": "4443c1b2-61ef-4041-9ef0-3298eee05c44",
   "metadata": {},
   "outputs": [],
   "source": [
    "fig, _ = detector.plot(coordinates=\"gnomonic\", pattern=s.inav[0, 0].data.compute(), return_fig_ax=True)\n",
    "fig.savefig(os.path.join(dir_data, \"detector.png\"), **savefig_kw)"
   ]
  },
  {
   "cell_type": "markdown",
   "id": "86baa8fe-b8d7-4fdc-b0d7-b971934e3150",
   "metadata": {},
   "source": [
    "Load master pattern"
   ]
  },
  {
   "cell_type": "code",
   "execution_count": 5,
   "id": "b73758b0-5655-48d6-98d7-8a7ac7884315",
   "metadata": {},
   "outputs": [
    {
     "name": "stdout",
     "output_type": "stream",
     "text": [
      "<EBSDMasterPattern, title: hakonwii\\ebsd_simulations\\al\\al_mc_mp_20kv, dimensions: (|1001, 1001)>\n",
      "<name: al. space group: Fm-3m. point group: m-3m. proper point group: 432. color: tab:blue>\n"
     ]
    }
   ],
   "source": [
    "mp = kp.load(\n",
    "    os.path.join(dir_mp, \"al\", \"al_mc_mp_20kv.h5\"),\n",
    "    projection=\"lambert\",\n",
    "    energy=energy,\n",
    "    hemisphere=\"north\",\n",
    ")\n",
    "mp.phase.name = \"al\""
   ]
  },
  {
   "cell_type": "markdown",
   "id": "35c78406-f835-444c-a860-8249b64756d1",
   "metadata": {},
   "source": [
    "Sample orientation space"
   ]
  },
  {
   "cell_type": "code",
   "execution_count": 6,
   "id": "f2ff9cbf-6abc-479a-8b5e-a7a08df7ec6e",
   "metadata": {},
   "outputs": [
    {
     "data": {
      "text/plain": [
       "Rotation (304053,)\n",
       "[[ 0.8547 -0.3517 -0.3517 -0.1484]\n",
       " [ 0.8547 -0.3533 -0.3533 -0.1405]\n",
       " [ 0.8547 -0.3533 -0.3533  0.1405]\n",
       " ...\n",
       " [ 0.8547  0.3533  0.3533 -0.1405]\n",
       " [ 0.8547  0.3533  0.3533  0.1405]\n",
       " [ 0.8547  0.3517  0.3517  0.1484]]"
      ]
     },
     "execution_count": 6,
     "metadata": {},
     "output_type": "execute_result"
    }
   ],
   "source": [
    "rot_dict = sampling.get_sample_fundamental(\n",
    "    resolution=1.4,\n",
    "    point_group=mp.phase.point_group,\n",
    "    method=\"cubochoric\",\n",
    ")\n",
    "rot_dict"
   ]
  },
  {
   "cell_type": "markdown",
   "id": "2b478a8c-13a6-4933-8dd2-41e59cec37d4",
   "metadata": {},
   "source": [
    "Generate dictionary"
   ]
  },
  {
   "cell_type": "code",
   "execution_count": 7,
   "id": "5fc50038-50dc-4d51-9f75-66751585e6bf",
   "metadata": {},
   "outputs": [
    {
     "data": {
      "text/plain": [
       "<LazyEBSD, title: , dimensions: (304053|96, 96)>"
      ]
     },
     "execution_count": 7,
     "metadata": {},
     "output_type": "execute_result"
    }
   ],
   "source": [
    "sim_dict = mp.get_patterns(\n",
    "    rotations=rot_dict, detector=detector, energy=energy, compute=False\n",
    ")\n",
    "sim_dict"
   ]
  },
  {
   "cell_type": "markdown",
   "id": "b11708cf-849e-4038-ae03-9b0e4ca7c812",
   "metadata": {},
   "source": [
    "Create a signal mask and check it"
   ]
  },
  {
   "cell_type": "code",
   "execution_count": 8,
   "id": "6c04eef3-f155-49fe-ba92-2b75c5957c1e",
   "metadata": {},
   "outputs": [],
   "source": [
    "signal_mask = ~kp.filters.Window(\"circular\", sig_shape).astype(bool)\n",
    "p = s.inav[0, 0].data.compute()\n",
    "\n",
    "fig, (ax0, ax1) = plt.subplots(ncols=2)\n",
    "ax0.imshow(p * signal_mask, cmap=\"gray\")\n",
    "ax1.imshow(p * ~signal_mask, cmap=\"gray\")\n",
    "ax0.set_title(\"Not used\")\n",
    "ax1.set_title(\"Used\")\n",
    "fig.tight_layout()\n",
    "fig.savefig(os.path.join(dir_data, \"signal_mask.png\"), **savefig_kwds)"
   ]
  },
  {
   "cell_type": "markdown",
   "id": "d31c0f14-821b-41b9-b135-54473423c15f",
   "metadata": {},
   "source": [
    "## Index"
   ]
  },
  {
   "cell_type": "code",
   "execution_count": 9,
   "id": "d222fe08-8fc6-4888-9f8c-0ee56842cd37",
   "metadata": {},
   "outputs": [
    {
     "name": "stdout",
     "output_type": "stream",
     "text": [
      "Dictionary indexing information:\n",
      "\tPhase name: al\n",
      "\tMatching 844561 experimental pattern(s) to 304053 dictionary pattern(s)\n",
      "\tNormalizedCrossCorrelationMetric: float32, greater is better, rechunk: True, signal mask: True\n"
     ]
    },
    {
     "name": "stderr",
     "output_type": "stream",
     "text": [
      "100%|██████████| 31/31 [5:37:54<00:00, 654.03s/it]  \n",
      "c:\\users\\hakonwii\\kikuchipy\\kikuchipy\\indexing\\_dictionary_indexing.py:131: RuntimeWarning: overflow encountered in int_scalars\n",
      "  np.floor(n_experimental * dictionary_size / total_time)\n"
     ]
    },
    {
     "name": "stdout",
     "output_type": "stream",
     "text": [
      "\tIndexing speed: 41 patterns/s, -44723 comparisons/s\n"
     ]
    },
    {
     "data": {
      "text/plain": [
       "Phase     Orientations  Name  Space group  Point group  Proper point group     Color\n",
       "    0  844561 (100.0%)    al        Fm-3m         m-3m                 432  tab:blue\n",
       "Properties: scores, simulation_indices\n",
       "Scan unit: px"
      ]
     },
     "execution_count": 9,
     "metadata": {},
     "output_type": "execute_result"
    }
   ],
   "source": [
    "keep_n = 20\n",
    "xmap = s.dictionary_indexing(\n",
    "    dictionary=sim_dict,\n",
    "    metric=\"ncc\",\n",
    "    keep_n=keep_n,\n",
    "    n_per_iteration=10000,\n",
    "    signal_mask=signal_mask,\n",
    "    rechunk=True,\n",
    ")\n",
    "xmap"
   ]
  },
  {
   "cell_type": "markdown",
   "id": "fbd185d5-3815-4e76-b12e-e26c0388d3df",
   "metadata": {},
   "source": [
    "Save results to file"
   ]
  },
  {
   "cell_type": "code",
   "execution_count": 10,
   "id": "9846dcf4-e808-4e66-b787-3d50ce20d23c",
   "metadata": {},
   "outputs": [],
   "source": [
    "io.save(os.path.join(dir_data, \"xmap.h5\"), xmap)"
   ]
  },
  {
   "cell_type": "markdown",
   "id": "1d3ed568-c849-4ef9-ae0e-1cdd1662c8c4",
   "metadata": {},
   "source": [
    "## Inspect results"
   ]
  },
  {
   "cell_type": "markdown",
   "id": "bbcfffaa-cd3d-4c4c-8241-3bb5af77eccb",
   "metadata": {},
   "source": [
    "Scores map"
   ]
  },
  {
   "cell_type": "code",
   "execution_count": 11,
   "id": "29892837-d83c-4a10-b12a-702fc999d20c",
   "metadata": {},
   "outputs": [],
   "source": [
    "scores = xmap.scores[:, 0].reshape(xmap.shape)\n",
    "plt.imsave(os.path.join(dir_data, \"maps_ncc1.png\"), scores, cmap=\"gray\")"
   ]
  },
  {
   "cell_type": "markdown",
   "id": "8217eab0-27dd-4171-a3e8-319b6bf1c978",
   "metadata": {},
   "source": [
    "Orientation similarity map"
   ]
  },
  {
   "cell_type": "code",
   "execution_count": 12,
   "id": "69d4b880-54e7-429a-82f2-61988c872efe",
   "metadata": {},
   "outputs": [],
   "source": [
    "osm = kp.indexing.orientation_similarity_map(xmap, n_best=keep_n)\n",
    "plt.imsave(os.path.join(dir_data, f\"maps_osm{keep_n}.png\"), osm, cmap=\"gray\")"
   ]
  },
  {
   "cell_type": "markdown",
   "id": "de4a9714-a8ce-40c4-a8f3-c4ae0cd4d15b",
   "metadata": {},
   "source": [
    "Both maps with colorbars"
   ]
  },
  {
   "cell_type": "code",
   "execution_count": 13,
   "id": "cf13ece0-f98e-47ce-bba8-3f78ec8fd5a8",
   "metadata": {},
   "outputs": [],
   "source": [
    "fig, (ax0, ax1) = plt.subplots(figsize=(12, 5), ncols=2)\n",
    "im0 = ax0.imshow(scores, cmap=\"gray\")\n",
    "im1 = ax1.imshow(osm, cmap=\"gray\")\n",
    "fig.colorbar(im0, ax=ax0, label=\"Normalized cross correlation score\")\n",
    "fig.colorbar(im1, ax=ax1, label=\"Orientation similarity\")\n",
    "ax0.axis(\"off\")\n",
    "ax1.axis(\"off\")\n",
    "fig.tight_layout(w_pad=-1)\n",
    "fig.savefig(os.path.join(dir_data, f\"maps_ncc1_osm{keep_n}_colorbar.png\"), **savefig_kwds)"
   ]
  },
  {
   "cell_type": "markdown",
   "id": "ab99aa0e-3ee1-4505-b237-ca8afb2ca804",
   "metadata": {},
   "source": [
    "Histograms of both maps"
   ]
  },
  {
   "cell_type": "code",
   "execution_count": 14,
   "id": "715d0a74-2300-4895-9d78-822ce944b103",
   "metadata": {},
   "outputs": [],
   "source": [
    "bins_ncc = np.linspace(scores.min(), scores.max(), 100)\n",
    "bins_osm = np.linspace(osm.min(), osm.max(), keep_n)\n",
    "\n",
    "fig, (ax0, ax1) = plt.subplots(figsize=(9, 5), ncols=2)\n",
    "ax0.hist(scores.ravel(), bins_ncc, color=\"C0\", label=\"NCC from DI\");\n",
    "ax1.hist(osm.ravel(), bins_osm, color=\"C1\", label=\"OSM\");\n",
    "ax0.set_xlim((0, 1))\n",
    "ax1.set_xlim((0, keep_n))\n",
    "ax0.set_xlabel(\"Normalized cross correlation score\")\n",
    "ax1.set_xlabel(\"Orientation similarity\")\n",
    "ax0.set_ylabel(\"Frequency\")\n",
    "ax1.set_ylabel(\"Frequency\")\n",
    "fig.tight_layout()\n",
    "fig.savefig(os.path.join(dir_data, f\"hist_ncc1_osm{keep_n}.png\"), **savefig_kwds)"
   ]
  },
  {
   "cell_type": "markdown",
   "id": "2a26440c-f6c9-4bac-acf0-44d196dcaffe",
   "metadata": {},
   "source": [
    "Orientation maps"
   ]
  },
  {
   "cell_type": "code",
   "execution_count": 15,
   "id": "84184d4c-2b74-46a8-81c3-995bb96c47a9",
   "metadata": {},
   "outputs": [],
   "source": [
    "ckey = plot.IPFColorKeyTSL(xmap.phases[0].point_group)"
   ]
  },
  {
   "cell_type": "code",
   "execution_count": 16,
   "id": "095b3380-6727-4a86-9e99-6e18afdde533",
   "metadata": {},
   "outputs": [],
   "source": [
    "ori = xmap.orientations\n",
    "directions = Vector3d(((1, 0, 0), (0, 1, 0), (0, 0, 1)))\n",
    "\n",
    "fig, axes = plt.subplots(figsize=(15, 5), ncols=3)\n",
    "for ax, v, title in zip(axes, directions, (\"x\", \"y\", \"z\")):\n",
    "    ckey.direction = v\n",
    "    rgb = ckey.orientation2color(ori).reshape(xmap.shape + (3,))\n",
    "    plt.imsave(os.path.join(dir_data, f\"maps_ipf{title}.png\"), rgb)\n",
    "    ax.imshow(rgb)\n",
    "    ax.axis(\"off\")\n",
    "    ax.set_title(f\"IPF {title}\")\n",
    "fig.tight_layout()\n",
    "fig.savefig(os.path.join(dir_data, \"maps_ipf.png\"), **savefig_kwds)"
   ]
  }
 ],
 "metadata": {
  "kernelspec": {
   "display_name": "Python 3 (ipykernel)",
   "language": "python",
   "name": "python3"
  },
  "language_info": {
   "codemirror_mode": {
    "name": "ipython",
    "version": 3
   },
   "file_extension": ".py",
   "mimetype": "text/x-python",
   "name": "python",
   "nbconvert_exporter": "python",
   "pygments_lexer": "ipython3",
   "version": "3.9.12"
  }
 },
 "nbformat": 4,
 "nbformat_minor": 5
}
