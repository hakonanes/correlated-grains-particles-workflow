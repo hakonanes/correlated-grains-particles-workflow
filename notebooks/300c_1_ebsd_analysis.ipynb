{
 "cells": [
  {
   "cell_type": "markdown",
   "id": "d951f637-54a7-4dda-9f76-ccdb900ad1e1",
   "metadata": {},
   "source": [
    "# Pre-process EBSD patterns from an AlMn alloy\n",
    "\n",
    "300 C #1\n",
    "\n",
    "Håkon Wiik Ånes (hakon.w.anes@ntnu.no)"
   ]
  },
  {
   "cell_type": "code",
   "execution_count": 33,
   "id": "dd9a1423-ca4d-4c14-b4f8-9d45fda369c5",
   "metadata": {},
   "outputs": [
    {
     "name": "stdout",
     "output_type": "stream",
     "text": [
      "2022-01-20\n"
     ]
    }
   ],
   "source": [
    "%matplotlib qt5\n",
    "\n",
    "from datetime import date\n",
    "import os\n",
    "from time import time\n",
    "\n",
    "import dask\n",
    "from dask.diagnostics import ProgressBar\n",
    "from diffpy.structure import Lattice, Structure\n",
    "from diffsims.crystallography import ReciprocalLatticePoint\n",
    "import hyperspy.api as hs\n",
    "import matplotlib.pyplot as plt\n",
    "from mpl_toolkits.axes_grid1 import make_axes_locatable\n",
    "import numpy as np\n",
    "from orix import io, plot, sampling\n",
    "from orix.crystal_map import create_coordinate_arrays, CrystalMap, Phase, PhaseList\n",
    "from orix.quaternion import Rotation\n",
    "from orix.vector import Vector3d\n",
    "from scipy.spatial import distance as ssd\n",
    "\n",
    "import kikuchipy as kp\n",
    "\n",
    "from pyebsdindex import ebsd_index, pcopt\n",
    "\n",
    "# Directories\n",
    "dir_mp = \"/home/hakon/kode/emsoft/emdata/crystal_data\"\n",
    "dir_data = \"/home/hakon/phd/data/p/prover/300c/1\"\n",
    "dir_nordif = os.path.join(dir_data, \"nordif\")\n",
    "dir_kp = os.path.join(dir_data, \"kp\")\n",
    "\n",
    "# Matplotlib\n",
    "plt.rcParams[\"font.size\"] = 12\n",
    "savefig_kw = dict(bbox_inches=\"tight\", pad_inches=0, dpi=150)\n",
    "\n",
    "# Print today\n",
    "print(date.today())"
   ]
  },
  {
   "cell_type": "markdown",
   "id": "d97e4a7e-1ea2-4388-9e34-3fdfc7510d91",
   "metadata": {
    "tags": []
   },
   "source": [
    "# Pre-correction"
   ]
  },
  {
   "cell_type": "markdown",
   "id": "d704eab2-af4e-432c-951e-ffb1dbf9b3d7",
   "metadata": {},
   "source": [
    "Load data"
   ]
  },
  {
   "cell_type": "code",
   "execution_count": 2,
   "id": "ebadffb9-2b1b-449f-80f9-29234e6c9ce1",
   "metadata": {},
   "outputs": [
    {
     "name": "stdout",
     "output_type": "stream",
     "text": [
      "<Axes manager, axes: (919, 919|96, 96)>\n",
      "            Name |   size |  index |  offset |   scale |  units \n",
      "================ | ====== | ====== | ======= | ======= | ====== \n",
      "               x |    919 |      0 |       0 |     0.1 |     um \n",
      "               y |    919 |      0 |       0 |     0.1 |     um \n",
      "---------------- | ------ | ------ | ------- | ------- | ------ \n",
      "              dx |     96 |        |       0 |       1 |     um \n",
      "              dy |     96 |        |       0 |       1 |     um \n"
     ]
    }
   ],
   "source": [
    "s = kp.load(os.path.join(dir_kp, \"patterns_dewrap.h5\"), lazy=True)\n",
    "sig_shape = s.axes_manager.signal_shape[::-1]\n",
    "print(s.axes_manager)"
   ]
  },
  {
   "cell_type": "markdown",
   "id": "c564a705-a1c4-46bc-b678-0b9c8ec0fd84",
   "metadata": {},
   "source": [
    "Mean intensity map"
   ]
  },
  {
   "cell_type": "code",
   "execution_count": 10,
   "id": "7a496513-aab2-436b-a541-d8280df03663",
   "metadata": {},
   "outputs": [
    {
     "name": "stdout",
     "output_type": "stream",
     "text": [
      "[########################################] | 100% Completed |  9.5s\n"
     ]
    }
   ],
   "source": [
    "s_mean = s.mean(axis=s.axes_manager.signal_axes)\n",
    "s_mean.compute()"
   ]
  },
  {
   "cell_type": "code",
   "execution_count": 11,
   "id": "0af64e88-fb28-4b31-ba34-fb3dc90e3030",
   "metadata": {},
   "outputs": [],
   "source": [
    "map_mean1 = s_mean.data\n",
    "plt.imsave(os.path.join(dir_kp, \"maps_mean.png\"), map_mean1, cmap=\"gray\")\n",
    "map_mean2 = kp.pattern.rescale_intensity(\n",
    "    map_mean1, in_range=np.percentile(map_mean1, q=(1, 99))\n",
    ")\n",
    "plt.imsave(os.path.join(dir_kp, \"maps_mean_q1_q99.png\"), map_mean2, cmap=\"gray\")"
   ]
  },
  {
   "cell_type": "markdown",
   "id": "3de9986e-de9f-47bf-94c8-e4f98ea120e4",
   "metadata": {},
   "source": [
    "Virtual backscatter electron images"
   ]
  },
  {
   "cell_type": "code",
   "execution_count": 12,
   "id": "ec1adea6-ab91-4b87-b18f-1023614b83c0",
   "metadata": {},
   "outputs": [],
   "source": [
    "vbse_gen = kp.generators.VirtualBSEGenerator(s)"
   ]
  },
  {
   "cell_type": "markdown",
   "id": "eee3fcbd-df3c-406d-a6ab-9481a7803235",
   "metadata": {},
   "source": [
    "RGB image"
   ]
  },
  {
   "cell_type": "code",
   "execution_count": 15,
   "id": "cfca6bf9-cc4e-4162-b935-d5ac3696930b",
   "metadata": {},
   "outputs": [],
   "source": [
    "vbse_gen.grid_shape = (5, 5)\n",
    "red = (2, 1)\n",
    "green = (2, 2)\n",
    "blue = (2, 3)\n",
    "vbse_grid_plot = vbse_gen.plot_grid(\n",
    "    rgb_channels=[red, green, blue], pattern_idx=(0, 0)\n",
    ")\n",
    "vbse_grid_plot._plot.signal_plot.figure.savefig(\n",
    "    os.path.join(dir_kp, \"vbse5x5_grid_plot.png\"), **savefig_kw\n",
    ")"
   ]
  },
  {
   "cell_type": "code",
   "execution_count": 17,
   "id": "ba4840fb-9c5d-4e8d-9935-308d924b63bf",
   "metadata": {
    "tags": []
   },
   "outputs": [
    {
     "name": "stderr",
     "output_type": "stream",
     "text": [
      "2022-01-20 15:05:14,104 - hyperspy.io - WARNING - `signal_type='VirtualBSEImage'` not understood. See `hs.print_known_signal_types()` for a list of installed signal types or https://github.com/hyperspy/hyperspy-extensions-list for the list of all hyperspy extensions providing signals.\n",
      "2022-01-20 15:05:18,832 - hyperspy.io - WARNING - `signal_type='VirtualBSEImage'` not understood. See `hs.print_known_signal_types()` for a list of installed signal types or https://github.com/hyperspy/hyperspy-extensions-list for the list of all hyperspy extensions providing signals.\n",
      "2022-01-20 15:05:23,434 - hyperspy.io - WARNING - `signal_type='VirtualBSEImage'` not understood. See `hs.print_known_signal_types()` for a list of installed signal types or https://github.com/hyperspy/hyperspy-extensions-list for the list of all hyperspy extensions providing signals.\n"
     ]
    }
   ],
   "source": [
    "vbse_rgb = vbse_gen.get_rgb_image(r=red, g=green, b=blue)\n",
    "vbse_rgb.save(os.path.join(dir_kp, \"vbse5x5_rgb.png\"))"
   ]
  },
  {
   "cell_type": "markdown",
   "id": "630014d2-64e0-402b-87ae-8ee50abc7f4f",
   "metadata": {},
   "source": [
    "Grid"
   ]
  },
  {
   "cell_type": "code",
   "execution_count": 18,
   "id": "fc2d2073-9f47-4f72-b109-4054d4090b3f",
   "metadata": {
    "tags": []
   },
   "outputs": [
    {
     "name": "stderr",
     "output_type": "stream",
     "text": [
      "2022-01-20 15:05:29,797 - hyperspy.io - WARNING - `signal_type='VirtualBSEImage'` not understood. See `hs.print_known_signal_types()` for a list of installed signal types or https://github.com/hyperspy/hyperspy-extensions-list for the list of all hyperspy extensions providing signals.\n",
      "2022-01-20 15:05:34,611 - hyperspy.io - WARNING - `signal_type='VirtualBSEImage'` not understood. See `hs.print_known_signal_types()` for a list of installed signal types or https://github.com/hyperspy/hyperspy-extensions-list for the list of all hyperspy extensions providing signals.\n",
      "2022-01-20 15:05:40,178 - hyperspy.io - WARNING - `signal_type='VirtualBSEImage'` not understood. See `hs.print_known_signal_types()` for a list of installed signal types or https://github.com/hyperspy/hyperspy-extensions-list for the list of all hyperspy extensions providing signals.\n",
      "2022-01-20 15:05:44,721 - hyperspy.io - WARNING - `signal_type='VirtualBSEImage'` not understood. See `hs.print_known_signal_types()` for a list of installed signal types or https://github.com/hyperspy/hyperspy-extensions-list for the list of all hyperspy extensions providing signals.\n",
      "2022-01-20 15:05:49,801 - hyperspy.io - WARNING - `signal_type='VirtualBSEImage'` not understood. See `hs.print_known_signal_types()` for a list of installed signal types or https://github.com/hyperspy/hyperspy-extensions-list for the list of all hyperspy extensions providing signals.\n",
      "2022-01-20 15:05:55,237 - hyperspy.io - WARNING - `signal_type='VirtualBSEImage'` not understood. See `hs.print_known_signal_types()` for a list of installed signal types or https://github.com/hyperspy/hyperspy-extensions-list for the list of all hyperspy extensions providing signals.\n",
      "2022-01-20 15:06:00,251 - hyperspy.io - WARNING - `signal_type='VirtualBSEImage'` not understood. See `hs.print_known_signal_types()` for a list of installed signal types or https://github.com/hyperspy/hyperspy-extensions-list for the list of all hyperspy extensions providing signals.\n",
      "2022-01-20 15:06:05,500 - hyperspy.io - WARNING - `signal_type='VirtualBSEImage'` not understood. See `hs.print_known_signal_types()` for a list of installed signal types or https://github.com/hyperspy/hyperspy-extensions-list for the list of all hyperspy extensions providing signals.\n",
      "2022-01-20 15:06:10,730 - hyperspy.io - WARNING - `signal_type='VirtualBSEImage'` not understood. See `hs.print_known_signal_types()` for a list of installed signal types or https://github.com/hyperspy/hyperspy-extensions-list for the list of all hyperspy extensions providing signals.\n",
      "2022-01-20 15:06:16,006 - hyperspy.io - WARNING - `signal_type='VirtualBSEImage'` not understood. See `hs.print_known_signal_types()` for a list of installed signal types or https://github.com/hyperspy/hyperspy-extensions-list for the list of all hyperspy extensions providing signals.\n",
      "2022-01-20 15:06:21,144 - hyperspy.io - WARNING - `signal_type='VirtualBSEImage'` not understood. See `hs.print_known_signal_types()` for a list of installed signal types or https://github.com/hyperspy/hyperspy-extensions-list for the list of all hyperspy extensions providing signals.\n",
      "2022-01-20 15:06:26,496 - hyperspy.io - WARNING - `signal_type='VirtualBSEImage'` not understood. See `hs.print_known_signal_types()` for a list of installed signal types or https://github.com/hyperspy/hyperspy-extensions-list for the list of all hyperspy extensions providing signals.\n",
      "2022-01-20 15:06:31,957 - hyperspy.io - WARNING - `signal_type='VirtualBSEImage'` not understood. See `hs.print_known_signal_types()` for a list of installed signal types or https://github.com/hyperspy/hyperspy-extensions-list for the list of all hyperspy extensions providing signals.\n",
      "2022-01-20 15:06:37,335 - hyperspy.io - WARNING - `signal_type='VirtualBSEImage'` not understood. See `hs.print_known_signal_types()` for a list of installed signal types or https://github.com/hyperspy/hyperspy-extensions-list for the list of all hyperspy extensions providing signals.\n",
      "2022-01-20 15:06:42,128 - hyperspy.io - WARNING - `signal_type='VirtualBSEImage'` not understood. See `hs.print_known_signal_types()` for a list of installed signal types or https://github.com/hyperspy/hyperspy-extensions-list for the list of all hyperspy extensions providing signals.\n",
      "2022-01-20 15:06:47,521 - hyperspy.io - WARNING - `signal_type='VirtualBSEImage'` not understood. See `hs.print_known_signal_types()` for a list of installed signal types or https://github.com/hyperspy/hyperspy-extensions-list for the list of all hyperspy extensions providing signals.\n",
      "2022-01-20 15:06:52,874 - hyperspy.io - WARNING - `signal_type='VirtualBSEImage'` not understood. See `hs.print_known_signal_types()` for a list of installed signal types or https://github.com/hyperspy/hyperspy-extensions-list for the list of all hyperspy extensions providing signals.\n",
      "2022-01-20 15:06:59,545 - hyperspy.io - WARNING - `signal_type='VirtualBSEImage'` not understood. See `hs.print_known_signal_types()` for a list of installed signal types or https://github.com/hyperspy/hyperspy-extensions-list for the list of all hyperspy extensions providing signals.\n",
      "2022-01-20 15:07:04,736 - hyperspy.io - WARNING - `signal_type='VirtualBSEImage'` not understood. See `hs.print_known_signal_types()` for a list of installed signal types or https://github.com/hyperspy/hyperspy-extensions-list for the list of all hyperspy extensions providing signals.\n",
      "2022-01-20 15:07:10,636 - hyperspy.io - WARNING - `signal_type='VirtualBSEImage'` not understood. See `hs.print_known_signal_types()` for a list of installed signal types or https://github.com/hyperspy/hyperspy-extensions-list for the list of all hyperspy extensions providing signals.\n",
      "2022-01-20 15:07:15,408 - hyperspy.io - WARNING - `signal_type='VirtualBSEImage'` not understood. See `hs.print_known_signal_types()` for a list of installed signal types or https://github.com/hyperspy/hyperspy-extensions-list for the list of all hyperspy extensions providing signals.\n",
      "2022-01-20 15:07:20,294 - hyperspy.io - WARNING - `signal_type='VirtualBSEImage'` not understood. See `hs.print_known_signal_types()` for a list of installed signal types or https://github.com/hyperspy/hyperspy-extensions-list for the list of all hyperspy extensions providing signals.\n",
      "2022-01-20 15:07:25,442 - hyperspy.io - WARNING - `signal_type='VirtualBSEImage'` not understood. See `hs.print_known_signal_types()` for a list of installed signal types or https://github.com/hyperspy/hyperspy-extensions-list for the list of all hyperspy extensions providing signals.\n",
      "2022-01-20 15:07:30,994 - hyperspy.io - WARNING - `signal_type='VirtualBSEImage'` not understood. See `hs.print_known_signal_types()` for a list of installed signal types or https://github.com/hyperspy/hyperspy-extensions-list for the list of all hyperspy extensions providing signals.\n",
      "2022-01-20 15:07:35,723 - hyperspy.io - WARNING - `signal_type='VirtualBSEImage'` not understood. See `hs.print_known_signal_types()` for a list of installed signal types or https://github.com/hyperspy/hyperspy-extensions-list for the list of all hyperspy extensions providing signals.\n"
     ]
    }
   ],
   "source": [
    "vbse_grid = vbse_gen.get_images_from_grid()"
   ]
  },
  {
   "cell_type": "code",
   "execution_count": 19,
   "id": "bddd45bd-fb5b-4f99-b5b4-ca1c2232ba09",
   "metadata": {},
   "outputs": [],
   "source": [
    "for idx in np.ndindex(vbse_grid.axes_manager.navigation_shape):\n",
    "    plt.imsave(\n",
    "        os.path.join(dir_kp, f\"vbse5x5_y{idx[1]}x{idx[0]}.png\"),\n",
    "        arr=vbse_grid.inav[idx].data,\n",
    "        cmap=\"gray\"\n",
    "    )"
   ]
  },
  {
   "cell_type": "markdown",
   "id": "eedb46a0-ba0d-41ba-a581-4aa5e2bd7e12",
   "metadata": {},
   "source": [
    "Background correction"
   ]
  },
  {
   "cell_type": "code",
   "execution_count": 20,
   "id": "6a8a6cb5-5b2a-4b44-a55b-e2620a1ac268",
   "metadata": {},
   "outputs": [],
   "source": [
    "s.remove_static_background()"
   ]
  },
  {
   "cell_type": "code",
   "execution_count": 21,
   "id": "6c0a1c34-2ffd-43c7-90ab-074f728277ac",
   "metadata": {},
   "outputs": [],
   "source": [
    "s.remove_dynamic_background()"
   ]
  },
  {
   "cell_type": "code",
   "execution_count": 22,
   "id": "5ebc8797-ac04-4cdd-9bc3-2b57c8f4578f",
   "metadata": {},
   "outputs": [],
   "source": [
    "w = kp.filters.Window(window=\"gaussian\", shape=(3, 3), std=1)\n",
    "s.average_neighbour_patterns(window=w)"
   ]
  },
  {
   "cell_type": "code",
   "execution_count": 23,
   "id": "45de724f-32c8-4a22-9ea6-2a80de6a6c55",
   "metadata": {},
   "outputs": [
    {
     "name": "stdout",
     "output_type": "stream",
     "text": [
      "11.295029282569885 min\n"
     ]
    }
   ],
   "source": [
    "t0 = time()\n",
    "s.save(os.path.join(dir_kp, \"pattern_sda.h5\"))\n",
    "print((time() - t0) / 60, \"min\")"
   ]
  },
  {
   "cell_type": "markdown",
   "id": "4c953a54-7aa4-4f03-b37f-a1b197c099a2",
   "metadata": {},
   "source": [
    "## Pre-indexing"
   ]
  },
  {
   "cell_type": "code",
   "execution_count": 24,
   "id": "4ab53d49-ea33-4c63-8f99-b1364f37384c",
   "metadata": {},
   "outputs": [
    {
     "name": "stdout",
     "output_type": "stream",
     "text": [
      "<Axes manager, axes: (919, 919|96, 96)>\n",
      "            Name |   size |  index |  offset |   scale |  units \n",
      "================ | ====== | ====== | ======= | ======= | ====== \n",
      "               x |    919 |      0 |       0 |     0.1 |     um \n",
      "               y |    919 |      0 |       0 |     0.1 |     um \n",
      "---------------- | ------ | ------ | ------- | ------- | ------ \n",
      "              dx |     96 |        |       0 |       1 |     um \n",
      "              dy |     96 |        |       0 |       1 |     um \n"
     ]
    }
   ],
   "source": [
    "s = kp.load(os.path.join(dir_kp, \"pattern_sda.h5\"), lazy=True)\n",
    "print(s.axes_manager)"
   ]
  },
  {
   "cell_type": "code",
   "execution_count": 37,
   "id": "134d9118-d270-487c-801d-948f3f30ed23",
   "metadata": {},
   "outputs": [],
   "source": [
    "iq = s.get_image_quality()\n",
    "adp = s.get_average_neighbour_dot_product_map()"
   ]
  },
  {
   "cell_type": "code",
   "execution_count": 26,
   "id": "24054eaf-2ec3-4e1e-a97d-b85b3f7fa17f",
   "metadata": {},
   "outputs": [],
   "source": [
    "plt.imsave(os.path.join(dir_kp, \"maps_iq.png\"), arr=iq, cmap=\"gray\")\n",
    "plt.imsave(os.path.join(dir_kp, \"maps_adp.png\"), arr=adp, cmap=\"gray\")"
   ]
  },
  {
   "cell_type": "markdown",
   "id": "046dbb9e-3f52-4565-bbdf-cb8af6c6fce6",
   "metadata": {},
   "source": [
    "## Projection center from PyEBSDIndex"
   ]
  },
  {
   "cell_type": "markdown",
   "id": "e6015173",
   "metadata": {},
   "source": [
    "Load acquisition patterns"
   ]
  },
  {
   "cell_type": "code",
   "execution_count": 48,
   "id": "07beb936",
   "metadata": {},
   "outputs": [],
   "source": [
    "s = kp.load(os.path.join(dir_kp, \"pattern_sda.h5\"), lazy=True)\n",
    "sig_shape = s.axes_manager.signal_shape[::-1]"
   ]
  },
  {
   "cell_type": "code",
   "execution_count": 45,
   "id": "55d0b284",
   "metadata": {},
   "outputs": [],
   "source": [
    "nav_shape = s.axes_manager.navigation_shape[::-1]\n",
    "pattern_grid = (7, 7)\n",
    "steps = np.floor(np.array(nav_shape) / np.array(pattern_grid)).astype(int)\n",
    "start = np.floor(steps / 2).astype(int)\n",
    "idx_r = np.arange(1, pattern_grid[0] + 1) * steps[0] - start[0]\n",
    "idx_c = np.arange(1, pattern_grid[1] + 1) * steps[1] - start[1]\n",
    "pattern_idx = np.array(np.meshgrid(idx_r, idx_c)).reshape((2, -1)).T\n",
    "\n",
    "s2_data_shape = (np.prod(pattern_grid),) + sig_shape\n",
    "s2_data = np.zeros(s2_data_shape, dtype=s.data.dtype)\n",
    "for i, (r, c) in enumerate(pattern_idx):\n",
    "    s2_data[i] = s.data[r, c]\n",
    "\n",
    "s2 = kp.signals.EBSD(s2_data)\n",
    "s2.axes_manager[0].name = \"x\"\n",
    "nav_size = s2.axes_manager.navigation_size"
   ]
  },
  {
   "cell_type": "code",
   "execution_count": 46,
   "id": "8a625276",
   "metadata": {},
   "outputs": [],
   "source": [
    "s2.plot(navigator=None)"
   ]
  },
  {
   "cell_type": "markdown",
   "id": "e77c6599",
   "metadata": {},
   "source": [
    "Load calibration patterns"
   ]
  },
  {
   "cell_type": "code",
   "execution_count": 49,
   "id": "08ea1d69-ece2-4aa7-b336-2bb94702ccf0",
   "metadata": {},
   "outputs": [],
   "source": [
    "s_cal0 = kp.load(os.path.join(dir_nordif, \"Setting.txt\"))\n",
    "sig_shape_cal = s_cal0.axes_manager.signal_shape[::-1]"
   ]
  },
  {
   "cell_type": "code",
   "execution_count": 51,
   "id": "6f3610c1",
   "metadata": {},
   "outputs": [
    {
     "name": "stdout",
     "output_type": "stream",
     "text": [
      "Removing the static background:\n",
      "[########################################] | 100% Completed |  0.1s\n",
      "Removing the dynamic background:\n",
      "[########################################] | 100% Completed |  0.3s\n"
     ]
    }
   ],
   "source": [
    "s_cal0.remove_static_background()\n",
    "s_cal0.remove_dynamic_background()"
   ]
  },
  {
   "cell_type": "code",
   "execution_count": 52,
   "id": "be1dd53a",
   "metadata": {},
   "outputs": [],
   "source": [
    "s_cal0.plot(navigator=None)"
   ]
  },
  {
   "cell_type": "code",
   "execution_count": 53,
   "id": "824d7704",
   "metadata": {},
   "outputs": [
    {
     "name": "stderr",
     "output_type": "stream",
     "text": [
      "/home/hakon/kode/kikuchipy/kikuchipy/signals/ebsd.py:166: VisibleDeprecationWarning: Function `set_experimental_parameters()` is deprecated and will be removed in version 0.6.\n",
      "  def set_experimental_parameters(\n"
     ]
    }
   ],
   "source": [
    "cal_al_idx = [10, 11, 12, 13, 14]\n",
    "s_cal = kp.signals.EBSD(s_cal0.data[cal_al_idx])\n",
    "s_cal.set_experimental_parameters(\n",
    "    static_background=s_cal0.metadata.Acquisition_instrument.SEM.Detector.EBSD.static_background\n",
    ")\n",
    "s_cal.axes_manager[0].name = \"x\"\n",
    "nav_size = s_cal.axes_manager.navigation_size"
   ]
  },
  {
   "cell_type": "markdown",
   "id": "69cd9dfd",
   "metadata": {},
   "source": [
    "Obtain PC and orientations from PyEBSDIndex"
   ]
  },
  {
   "cell_type": "code",
   "execution_count": 55,
   "id": "6ef1cc28",
   "metadata": {},
   "outputs": [],
   "source": [
    "indexer = ebsd_index.EBSDIndexer(\n",
    "    phaselist=[\"FCC\"],\n",
    "    vendor=\"EDAX\",\n",
    "    PC=None,\n",
    "    sampleTilt=70,\n",
    "    camElev=0,\n",
    "    patDim=sig_shape_cal[::-1]\n",
    "#    patDim=sig_shape[::-1]\n",
    ")"
   ]
  },
  {
   "cell_type": "markdown",
   "id": "f2a901f3",
   "metadata": {},
   "source": [
    "Load master pattern"
   ]
  },
  {
   "cell_type": "code",
   "execution_count": 56,
   "id": "dc92261b",
   "metadata": {},
   "outputs": [],
   "source": [
    "energy = 17\n",
    "mp = kp.load(\n",
    "    os.path.join(dir_mp, \"al\", \"al_mc_mp_20kv.h5\"),\n",
    "    projection=\"lambert\",\n",
    "    energy=energy,\n",
    "    hemisphere=\"north\",\n",
    ")\n",
    "mp.phase.name = \"al\"\n",
    "al_phase = mp.phase"
   ]
  },
  {
   "cell_type": "markdown",
   "id": "d5651511",
   "metadata": {},
   "source": [
    "Find PC from single pattern"
   ]
  },
  {
   "cell_type": "code",
   "execution_count": 70,
   "id": "e03eed16",
   "metadata": {},
   "outputs": [
    {
     "name": "stdout",
     "output_type": "stream",
     "text": [
      "[0.47372871 0.81526954 0.54449875]\n"
     ]
    }
   ],
   "source": [
    "pc0 = (0.48, 0.82, 0.54)\n",
    "pc = pcopt.optimize(s_cal.inav[0].data, indexer, PC0=pc0)\n",
    "print(pc)"
   ]
  },
  {
   "cell_type": "markdown",
   "id": "8e9c7c0b",
   "metadata": {},
   "source": [
    "Find PC from all patterns"
   ]
  },
  {
   "cell_type": "code",
   "execution_count": 71,
   "id": "fb5951ca",
   "metadata": {},
   "outputs": [
    {
     "name": "stdout",
     "output_type": "stream",
     "text": [
      "[0.48806974 0.81207367 0.54568834]\n"
     ]
    }
   ],
   "source": [
    "pc0 = (0.48, 0.82, 0.54)\n",
    "pcs = np.zeros((nav_size, 3))\n",
    "for i in range(nav_size):\n",
    "    pcs[i] = pcopt.optimize(s_cal.inav[i].data, indexer, PC0=pc0)\n",
    "pc = pcs.mean(axis=0)\n",
    "print(pc)"
   ]
  },
  {
   "cell_type": "code",
   "execution_count": 72,
   "id": "6c5f7717",
   "metadata": {},
   "outputs": [
    {
     "name": "stdout",
     "output_type": "stream",
     "text": [
      "Radon Time: 0.25747991100070067\n",
      "Convolution Time: 0.016753684998548124\n",
      "Peak ID Time: 0.003076690001762472\n",
      "Band Label Time: 0.013839708000887185\n",
      "Total Band Find Time: 0.2911553129997628\n",
      "Band Vote Time:  1.043534128999454\n"
     ]
    }
   ],
   "source": [
    "data = indexer.index_pats(\n",
    "    patsin=s_cal.data,\n",
    "#    patsin=s2.data,\n",
    "    patstart=0,\n",
    "    npats=-1,\n",
    "    clparams=None,\n",
    "    PC=pc,\n",
    "    verbose=1\n",
    ")\n",
    "rot = Rotation(data[0][\"quat\"][0])"
   ]
  },
  {
   "cell_type": "code",
   "execution_count": 73,
   "id": "c8630d48",
   "metadata": {},
   "outputs": [
    {
     "data": {
      "text/plain": [
       "EBSDDetector (240, 240), px_size 1 um, binning 1, tilt 0, azimuthal 0, pc (0.488, 0.188, 0.546)"
      ]
     },
     "execution_count": 73,
     "metadata": {},
     "output_type": "execute_result"
    }
   ],
   "source": [
    "detector = kp.detectors.EBSDDetector(\n",
    "    shape=sig_shape_cal,\n",
    "#    shape=sig_shape,\n",
    "    pc=pc,\n",
    "    sample_tilt=70,\n",
    "    convention=\"tsl\",\n",
    ")\n",
    "detector"
   ]
  },
  {
   "cell_type": "markdown",
   "id": "a1a445ce",
   "metadata": {},
   "source": [
    "Inspect geometrical simulations"
   ]
  },
  {
   "cell_type": "code",
   "execution_count": 74,
   "id": "7778f034",
   "metadata": {},
   "outputs": [],
   "source": [
    "rlp = ReciprocalLatticePoint(phase=al_phase, hkl=((1, 1, 1), (2, 0, 0), (2, 2, 0), (3, 1, 1)))\n",
    "rlp2 = rlp.symmetrise()\n",
    "simgen = kp.generators.EBSDSimulationGenerator(\n",
    "    detector=detector,\n",
    "    phase=al_phase,\n",
    "    rotations=rot,\n",
    ")\n",
    "geosim = simgen.geometrical_simulation(reciprocal_lattice_point=rlp2)\n",
    "\n",
    "markers = geosim.as_markers(pc=False, bands=True, zone_axes_labels=False, zone_axes=False)\n",
    "\n",
    "#del s_cal.metadata.Markers\n",
    "s_cal.add_marker(marker=markers, plot_marker=False, permanent=True)\n",
    "s_cal.plot(navigator=None)\n",
    "\n",
    "#del s2.metadata.Markers\n",
    "#s2.add_marker(marker=markers, plot_marker=False, permanent=True)\n",
    "#s2.plot(navigator=None)"
   ]
  },
  {
   "cell_type": "markdown",
   "id": "5071807c",
   "metadata": {},
   "source": [
    "Refine results from PyEBSDIndex"
   ]
  },
  {
   "cell_type": "code",
   "execution_count": 77,
   "id": "c3efa1c1",
   "metadata": {},
   "outputs": [],
   "source": [
    "xmap = CrystalMap(rotations=rot, phase_list=PhaseList(al_phase))"
   ]
  },
  {
   "cell_type": "code",
   "execution_count": 78,
   "id": "5a85f408",
   "metadata": {},
   "outputs": [
    {
     "name": "stdout",
     "output_type": "stream",
     "text": [
      "Refinement information:\n",
      "\tLocal optimization method: Nelder-Mead (minimize)\n",
      "\tKeyword arguments passed to method: {'method': 'Nelder-Mead'}\n",
      "Refining 5 orientation(s):\n",
      "[########################################] | 100% Completed |  3.0s\n",
      "Refinement speed: 1 patterns/s\n",
      "Refinement information:\n",
      "\tLocal optimization method: Nelder-Mead (minimize)\n",
      "\tKeyword arguments passed to method: {'method': 'Nelder-Mead'}\n",
      "Refining 5 projection center(s):\n",
      "[########################################] | 100% Completed |  1.8s\n",
      "Refinement speed: 2 patterns/s\n"
     ]
    }
   ],
   "source": [
    "# Calibration patterns\n",
    "xmap_refined = s_cal.refine_orientation(xmap=xmap, detector=detector, master_pattern=mp, energy=energy)\n",
    "_, detector_ref = s_cal.refine_projection_center(xmap=xmap_refined, detector=detector, master_pattern=mp, energy=energy)\n",
    "\n",
    "# Acquisition patterns from grid\n",
    "#xmap_refined = s2.refine_orientation(xmap=xmap, detector=detector, master_pattern=mp, energy=energy)\n",
    "#_, detector_ref = s2.refine_projection_center(xmap=xmap_refined, detector=detector, master_pattern=mp, energy=energy)"
   ]
  },
  {
   "cell_type": "markdown",
   "id": "43285fd8",
   "metadata": {},
   "source": [
    "Check geometrical simulations"
   ]
  },
  {
   "cell_type": "code",
   "execution_count": 79,
   "id": "5549083a",
   "metadata": {},
   "outputs": [],
   "source": [
    "simgen = kp.generators.EBSDSimulationGenerator(\n",
    "    detector=detector_ref,\n",
    "    phase=al_phase,\n",
    "    rotations=xmap_refined.rotations,\n",
    ")\n",
    "geosim = simgen.geometrical_simulation(reciprocal_lattice_point=rlp2)\n",
    "markers = geosim.as_markers(pc=False, bands=True, zone_axes_labels=False, zone_axes=False)\n",
    "\n",
    "del s_cal.metadata.Markers\n",
    "s_cal.add_marker(marker=markers, plot_marker=False, permanent=True)\n",
    "\n",
    "#del s2.metadata.Markers\n",
    "#s2.add_marker(marker=markers, plot_marker=False, permanent=True)"
   ]
  },
  {
   "cell_type": "markdown",
   "id": "b42c22a6",
   "metadata": {},
   "source": [
    "Check simulated patterns"
   ]
  },
  {
   "cell_type": "code",
   "execution_count": 80,
   "id": "03d5f0fe",
   "metadata": {},
   "outputs": [
    {
     "name": "stdout",
     "output_type": "stream",
     "text": [
      "Creating a dictionary of (1,) simulated patterns:\n",
      "[########################################] | 100% Completed |  0.1s\n",
      "Creating a dictionary of (1,) simulated patterns:\n",
      "[########################################] | 100% Completed |  0.1s\n",
      "Creating a dictionary of (1,) simulated patterns:\n",
      "[########################################] | 100% Completed |  0.1s\n",
      "Creating a dictionary of (1,) simulated patterns:\n",
      "[########################################] | 100% Completed |  0.1s\n",
      "Creating a dictionary of (1,) simulated patterns:\n",
      "[########################################] | 100% Completed |  0.1s\n",
      "[########################################] | 100% Completed |  0.1s\n"
     ]
    }
   ],
   "source": [
    "sim_list = []\n",
    "for i in range(detector_ref.pc.shape[0]):\n",
    "    detector_i = detector_ref.deepcopy()\n",
    "    detector_i.pc = detector_i.pc[0]\n",
    "    sim_i = mp.get_patterns(\n",
    "        rotations=xmap_refined.rotations[i],\n",
    "        detector=detector_i,\n",
    "        energy=energy,\n",
    "        compute=True,\n",
    "    )\n",
    "    sim_list.append(sim_i)\n",
    "sim = hs.stack(sim_list, axis=0)"
   ]
  },
  {
   "cell_type": "code",
   "execution_count": 81,
   "id": "1b7d3bcd",
   "metadata": {},
   "outputs": [],
   "source": [
    "ncc = kp.indexing.similarity_metrics.NormalizedCrossCorrelationMetric(\n",
    "    n_experimental_patterns=nav_size,\n",
    "    n_dictionary_patterns=nav_size,\n",
    ")\n",
    "#scores = ncc(s2.data, sim.data).compute()\n",
    "scores = ncc(s_cal.data, sim.data).compute()\n",
    "scores = np.diagonal(scores)"
   ]
  },
  {
   "cell_type": "code",
   "execution_count": 82,
   "id": "f152a864",
   "metadata": {},
   "outputs": [],
   "source": [
    "del s_cal.metadata.Markers\n",
    "hs.plot.plot_signals((s_cal, sim), navigator=hs.signals.Signal1D(scores))\n",
    "\n",
    "#del s2.metadata.Markers\n",
    "#hs.plot.plot_signals((s2, sim), navigator=hs.signals.Signal1D(scores))"
   ]
  },
  {
   "cell_type": "markdown",
   "id": "268db179",
   "metadata": {},
   "source": [
    "## Dictionary indexing"
   ]
  },
  {
   "cell_type": "markdown",
   "id": "8d5f377d",
   "metadata": {},
   "source": [
    "Done on Windows machine with above projection center."
   ]
  },
  {
   "cell_type": "markdown",
   "id": "77f03bb4",
   "metadata": {},
   "source": [
    "## Refinement"
   ]
  },
  {
   "cell_type": "markdown",
   "id": "e8aee15a",
   "metadata": {},
   "source": [
    "Done on Windows machine with above projection center."
   ]
  }
 ],
 "metadata": {
  "kernelspec": {
   "display_name": "Python 3 (ipykernel)",
   "language": "python",
   "name": "python3"
  },
  "language_info": {
   "codemirror_mode": {
    "name": "ipython",
    "version": 3
   },
   "file_extension": ".py",
   "mimetype": "text/x-python",
   "name": "python",
   "nbconvert_exporter": "python",
   "pygments_lexer": "ipython3",
   "version": "3.9.12"
  }
 },
 "nbformat": 4,
 "nbformat_minor": 5
}
