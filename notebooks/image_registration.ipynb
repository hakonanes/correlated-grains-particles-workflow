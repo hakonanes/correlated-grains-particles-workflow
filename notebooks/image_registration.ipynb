{
 "cells": [
  {
   "cell_type": "markdown",
   "id": "e4a2b030",
   "metadata": {},
   "source": [
    "# Image registration of an EBSD data set to a BSE image\n",
    "\n",
    "Håkon Wiik Ånes (hakon.w.anes@ntnu.no)"
   ]
  },
  {
   "cell_type": "code",
   "execution_count": 1,
   "id": "d99f4cb2",
   "metadata": {},
   "outputs": [
    {
     "name": "stdout",
     "output_type": "stream",
     "text": [
      "Run date:  2022-03-06\n",
      "\n",
      "Software versions\n",
      "------------------\n",
      "dask : 2021.12.0\n",
      "matplotlib : 3.4.3\n",
      "morphops : 0.1.13\n",
      "numpy : 1.21.5\n",
      "orix : 0.9.dev0\n",
      "scikit-image : 0.18.0\n",
      "tqdm : 4.62.3\n"
     ]
    }
   ],
   "source": [
    "%matplotlib qt5\n",
    "\n",
    "from datetime import date\n",
    "import importlib_metadata\n",
    "import os\n",
    "\n",
    "from dask.diagnostics import ProgressBar\n",
    "import dask\n",
    "import matplotlib.pyplot as plt\n",
    "from mpl_toolkits.axes_grid1.axes_divider import make_axes_locatable\n",
    "import morphops\n",
    "import numpy as np\n",
    "from orix import io as oio\n",
    "from orix.crystal_map import CrystalMap\n",
    "from orix.quaternion import Rotation\n",
    "import skimage.color as skc\n",
    "import skimage.exposure as ske\n",
    "import skimage.transform as skt\n",
    "import skimage.util as sku\n",
    "from tqdm import trange\n",
    "\n",
    "\n",
    "# Directories\n",
    "dset_no = 1\n",
    "dir_data = \"/home/hakon/phd/data/p/prover/300c\"\n",
    "dir_sample = os.path.join(dir_data, str(dset_no))\n",
    "dir_bse = os.path.join(dir_sample, \"bse\")\n",
    "dir_kp = os.path.join(dir_sample, \"kp\")\n",
    "\n",
    "# Data set specific parameters\n",
    "n_cps = {1: 82, 2: 95, 3: 89}\n",
    "out_shapes = {1: (1000, 1000), 2: (900, 820), 3: (1050, 950)}\n",
    "\n",
    "# Matplotlib\n",
    "plt.rcParams[\"font.size\"] = 12\n",
    "savefig_kw = dict(bbox_inches=\"tight\", pad_inches=0, dpi=300, transparent=True)\n",
    "\n",
    "print(\"Run date: \", date.today())\n",
    "print(\"\\nSoftware versions\\n------------------\")\n",
    "for pkg in [\n",
    "    \"dask\",\n",
    "    \"matplotlib\",\n",
    "    \"morphops\",\n",
    "    \"numpy\",\n",
    "    \"orix\",\n",
    "    \"scikit-image\",\n",
    "    \"tqdm\"\n",
    "]:\n",
    "    if pkg == \"numpy\":\n",
    "        ver = np.__version__\n",
    "    else:\n",
    "        ver = importlib_metadata.version(pkg)\n",
    "    print(pkg, \":\", ver)"
   ]
  },
  {
   "cell_type": "markdown",
   "id": "d103f18d",
   "metadata": {},
   "source": [
    "Step sizes"
   ]
  },
  {
   "cell_type": "code",
   "execution_count": 2,
   "id": "4fe30f97",
   "metadata": {},
   "outputs": [],
   "source": [
    "delta = dict(ebsd=100, bse=1 / 38.5e-3)"
   ]
  },
  {
   "cell_type": "markdown",
   "id": "7ad54e51-172b-4fab-a980-e57411c6bb51",
   "metadata": {},
   "source": [
    "New BSE scale so that the particle map produced from the upscaled BSE image can be binned by an integer factor"
   ]
  },
  {
   "cell_type": "code",
   "execution_count": 3,
   "id": "c8141c02-2bb2-4c2b-87ae-aff471932cf6",
   "metadata": {},
   "outputs": [],
   "source": [
    "x_bin = int(np.ceil(delta[\"ebsd\"] / delta[\"bse\"]))\n",
    "upscale_factor = x_bin * (delta[\"bse\"] / delta[\"ebsd\"])"
   ]
  },
  {
   "cell_type": "markdown",
   "id": "e2531885",
   "metadata": {},
   "source": [
    "## 1. Manually identify control points"
   ]
  },
  {
   "cell_type": "markdown",
   "id": "ea7518cb",
   "metadata": {},
   "source": [
    "EBSD map (sensed image)"
   ]
  },
  {
   "cell_type": "code",
   "execution_count": 4,
   "id": "63ffc58f",
   "metadata": {},
   "outputs": [],
   "source": [
    "ebsd = plt.imread(os.path.join(dir_kp, \"maps_mean_q1_q99.png\"))\n",
    "ebsd = skc.rgb2gray(ebsd[..., :3])"
   ]
  },
  {
   "cell_type": "markdown",
   "id": "34d8aa1b",
   "metadata": {},
   "source": [
    "BSE image (reference image)"
   ]
  },
  {
   "cell_type": "code",
   "execution_count": 5,
   "id": "b712e796",
   "metadata": {},
   "outputs": [],
   "source": [
    "bse = plt.imread(os.path.join(dir_bse, \"4500x_cropped2_fused_crop.png\"))\n",
    "bse = skc.rgb2gray(bse[..., :3])"
   ]
  },
  {
   "cell_type": "markdown",
   "id": "c6343cd4-66e6-445f-89b5-5accf55e78d4",
   "metadata": {},
   "source": [
    "Identify coordinates (x, y) and (X, Y) of corresponding control points and write\n",
    "them to a text file"
   ]
  },
  {
   "cell_type": "code",
   "execution_count": null,
   "id": "56d5739c-c32c-4b96-ab1c-2178c63a9fbe",
   "metadata": {},
   "outputs": [],
   "source": [
    "#fig, (ax0, ax1) = plt.subplots(ncols=2)\n",
    "#ax0.imshow(ebsd, cmap=\"gray\")\n",
    "#ax1.imshow(bse, cmap=\"gray\");"
   ]
  },
  {
   "cell_type": "markdown",
   "id": "47156dee",
   "metadata": {},
   "source": [
    "Load identified control points"
   ]
  },
  {
   "cell_type": "code",
   "execution_count": 6,
   "id": "acd2d83e",
   "metadata": {},
   "outputs": [],
   "source": [
    "cpx_ebsd, cpy_ebsd, cpx_bse, cpy_bse = np.loadtxt(\n",
    "    os.path.join(dir_bse, \"cps_300c_cropped2_fused_crop.csv\"),\n",
    "    skiprows=1,\n",
    "    max_rows=n_cps[sample],\n",
    "    usecols=(1, 2, 3, 4),\n",
    "    delimiter=\",\",\n",
    "    unpack=True,\n",
    ")\n",
    "cp_ebsd = np.column_stack([cpy_ebsd, cpx_ebsd])\n",
    "cp_bse = np.column_stack([cpy_bse, cpx_bse])"
   ]
  },
  {
   "cell_type": "markdown",
   "id": "9f76db58",
   "metadata": {},
   "source": [
    "## 2. Scale out control point coordinates in"
   ]
  },
  {
   "cell_type": "code",
   "execution_count": 7,
   "id": "831723bd",
   "metadata": {},
   "outputs": [],
   "source": [
    "cp_bse_scaled = cp_bse / (delta[\"ebsd\"] / delta[\"bse\"])"
   ]
  },
  {
   "cell_type": "markdown",
   "id": "5a9720e6",
   "metadata": {},
   "source": [
    "## 3. Correct source image using the thin plate spline transformation function"
   ]
  },
  {
   "cell_type": "markdown",
   "id": "d0c711f3",
   "metadata": {},
   "source": [
    "Get inverse map (input coordinates in the output image) using `morphops`. We use `dask` to wrap calls to `morphops` to keep memory use low."
   ]
  },
  {
   "cell_type": "code",
   "execution_count": 77,
   "id": "7de8188d",
   "metadata": {},
   "outputs": [
    {
     "name": "stdout",
     "output_type": "stream",
     "text": [
      "[########################################] | 100% Completed |  2.5s\n"
     ]
    }
   ],
   "source": [
    "out_shape = out_shapes[sample]\n",
    "out_size = int(np.prod(out_shape))\n",
    "rc_out = np.indices(out_shape, dtype=float).reshape((2, -1)).T\n",
    "\n",
    "delayed_list = []\n",
    "n_chunks = 100\n",
    "chunk_size = int(np.ceil(out_size / n_chunks))\n",
    "for idx in range(0, n_chunks * chunk_size, chunk_size):\n",
    "    rc_chunk = rc_out[idx:idx + chunk_size]\n",
    "    rc_in_part = dask.delayed(morphops.tps_warp)(X=cp_bse_scaled, Y=cp_ebsd, pts=rc_chunk)\n",
    "    delayed_list.append(rc_in_part)\n",
    "\n",
    "with ProgressBar():\n",
    "    rc_in_parts = dask.compute(*delayed_list)\n",
    "rc_in = np.row_stack(rc_in_parts)"
   ]
  },
  {
   "cell_type": "markdown",
   "id": "5ea4bb1f",
   "metadata": {},
   "source": [
    "Check coordinate shifts"
   ]
  },
  {
   "cell_type": "code",
   "execution_count": 78,
   "id": "dca33801",
   "metadata": {},
   "outputs": [],
   "source": [
    "rc_shift = rc_in - rc_out\n",
    "rc_center = rc_shift - rc_shift.mean(axis=0)\n",
    "\n",
    "labels = (\"Y shift\", \"X shift\")\n",
    "v_extent = max(abs(rc_center.min()), abs(rc_center.max()))\n",
    "imshow_kwds = dict(vmin=-v_extent, vmax=v_extent, cmap=\"seismic\")\n",
    "\n",
    "fig, ax = plt.subplots(ncols=2, figsize=(8, 4))\n",
    "for i, a in enumerate(ax):\n",
    "    im = a.imshow(rc_center[:, i].reshape(out_shape), **imshow_kwds)\n",
    "    ax_divider = make_axes_locatable(a)\n",
    "    fig.colorbar(im, cax=ax_divider.append_axes(\"right\", size=\"7%\", pad=\"3%\"), label=labels[i])\n",
    "fig.tight_layout()"
   ]
  },
  {
   "cell_type": "code",
   "execution_count": 79,
   "id": "4988ea0e",
   "metadata": {},
   "outputs": [],
   "source": [
    "def get_mapping_arrays(rc_in, in_shape, out_shape):\n",
    "    \"\"\"Get 1D indices of corresponding points in input and output\n",
    "    arrays.\n",
    "    \n",
    "    Parameters\n",
    "    ----------\n",
    "    rc_in : numpy.ndarray\n",
    "    in_shape : tuple\n",
    "    out_shape : tuple\n",
    "    \n",
    "    Returns\n",
    "    -------\n",
    "    rc_in_1d : numpy.ndarray\n",
    "    rc_in_2d : tuple of numpy.ndarray\n",
    "    rc_out_1d : numpy.ndarray\n",
    "    rc_out_2d : tuple of numpy.ndarray\n",
    "    \"\"\"\n",
    "    # Round exact input coordinates to nearest neighbour coordinates\n",
    "    rc_in_int = np.round(rc_in).astype(int)\n",
    "\n",
    "    # Set up output coordinate array\n",
    "    rc_out = np.indices(out_shape).reshape((2, -1)).T\n",
    "    \n",
    "    # Remove coordinates outside input map in both arrays\n",
    "    is_outside = np.logical_or((rc_in_int < 0).any(axis=1), (rc_in_int >= np.array(in_shape)).any(axis=1))\n",
    "    is_outside_idx = np.where(is_outside)[0]\n",
    "    rc_in_int = np.delete(rc_in_int, is_outside_idx, axis=0)\n",
    "    rc_out = np.delete(rc_out, is_outside_idx, axis=0)\n",
    "    \n",
    "    # Get 1D indices\n",
    "    rc_in_1d = np.ravel_multi_index(rc_in_int.T, in_shape)\n",
    "    rc_out_1d = np.ravel_multi_index(rc_out.T, out_shape)\n",
    "\n",
    "    # 2D coordinate arrays\n",
    "    rc_in_2d = np.unravel_index(rc_in_1d, in_shape)\n",
    "    rc_out_2d = np.unravel_index(rc_out_1d, out_shape)\n",
    "    \n",
    "    return rc_in_1d, rc_in_2d, rc_out_1d, rc_out_2d\n",
    "\n",
    "\n",
    "def map_in_image(in_image, out_shape, rc_in_2d, rc_out_2d):\n",
    "    \"\"\"Map sensed (in) image from sensed coordinates to\n",
    "    reference coordinates.\n",
    "    \n",
    "    Parameters\n",
    "    ----------\n",
    "    in_image : numpy.ndarray\n",
    "    out_shape : tuple\n",
    "    rc_in_2d : tuple of numpy.ndarray\n",
    "    rc_out_2d : tuple of numpy.ndarray\n",
    "    \n",
    "    Returns\n",
    "    -------\n",
    "    out_image : numpy.ndarray\n",
    "    \"\"\"\n",
    "    out_image = np.zeros(out_shape, dtype=in_image.dtype)\n",
    "    out_image[rc_out_2d] = in_image[rc_in_2d]\n",
    "    return out_image"
   ]
  },
  {
   "cell_type": "code",
   "execution_count": 80,
   "id": "6909e3d1",
   "metadata": {},
   "outputs": [],
   "source": [
    "rc_in_1d, rc_in_2d, rc_out_1d, rc_out_2d = get_mapping_arrays(\n",
    "    rc_in=rc_in, in_shape=ebsd.shape, out_shape=out_shape\n",
    ")"
   ]
  },
  {
   "cell_type": "markdown",
   "id": "4a2f2496",
   "metadata": {},
   "source": [
    "Check mapping of EBSD intensity map"
   ]
  },
  {
   "cell_type": "code",
   "execution_count": 81,
   "id": "ee76db68",
   "metadata": {},
   "outputs": [],
   "source": [
    "ebsd_correct = map_in_image(ebsd, out_shape, rc_in_2d, rc_out_2d)\n",
    "\n",
    "#fig, ax = plt.subplots(ncols=2)\n",
    "#ax[0].imshow(ebsd, cmap=\"gray\")\n",
    "#ax[1].imshow(ebsd_correct, cmap=\"gray\");"
   ]
  },
  {
   "cell_type": "code",
   "execution_count": 82,
   "id": "514ddda7",
   "metadata": {},
   "outputs": [],
   "source": [
    "mask = np.zeros(out_shape, dtype=bool)\n",
    "mask[rc_out_2d] = True\n",
    "\n",
    "#plt.imsave(os.path.join(dir_bse, \"ebsd_correct.png\"), ebsd_correct, cmap=\"gray\")\n",
    "#np.save(os.path.join(dir_bse, \"mask_ebsd_correct\"), mask)"
   ]
  },
  {
   "cell_type": "markdown",
   "id": "b51595f0",
   "metadata": {},
   "source": [
    "Check overlap of EBSD map and BSE image"
   ]
  },
  {
   "cell_type": "code",
   "execution_count": 83,
   "id": "5f52c810",
   "metadata": {},
   "outputs": [],
   "source": [
    "mask = np.zeros(out_shape, dtype=bool)\n",
    "mask[rc_out_2d] = True\n",
    "\n",
    "scale = delta[\"ebsd\"] / delta[\"bse\"]\n",
    "mask2 = skt.rescale(mask, scale).astype(bool)\n",
    "ebsd_correct2 = skt.rescale(ebsd_correct, scale)\n",
    "mask2 = mask2[:bse.shape[0], :bse.shape[1]]\n",
    "ebsd_correct3 = ebsd_correct2[:bse.shape[0], :bse.shape[1]]\n",
    "\n",
    "bse2 = bse.copy()\n",
    "bse2[~mask2] = 0\n",
    "\n",
    "#fig, ax = plt.subplots(ncols=2, sharex=True, sharey=True)\n",
    "#ax[0].imshow(ebsd_correct3, cmap=\"gray\")\n",
    "#ax[1].imshow(bse2, cmap=\"gray\");"
   ]
  },
  {
   "cell_type": "markdown",
   "id": "c3c9b03f-248f-4bc1-b3f9-37f4169c80bc",
   "metadata": {},
   "source": [
    "Check similarity of corrected EBSD map and BSE image"
   ]
  },
  {
   "cell_type": "code",
   "execution_count": 84,
   "id": "635cff83",
   "metadata": {},
   "outputs": [],
   "source": [
    "ebsd_correct4 = ske.rescale_intensity(ebsd_correct3, out_range=(0, 1))\n",
    "bse3 = ske.rescale_intensity(bse2, out_range=(0, 1))\n",
    "reg_im = np.stack((ebsd_correct4, bse3, ebsd_correct4), axis=2)\n",
    "\n",
    "fig, (ax0, ax1, ax2) = plt.subplots(ncols=3, sharex=True, sharey=True)\n",
    "ax0.imshow(ebsd_correct4, cmap=\"gray\")\n",
    "ax1.imshow(bse3, cmap=\"gray\")\n",
    "ax2.imshow(reg_im);"
   ]
  },
  {
   "cell_type": "code",
   "execution_count": 50,
   "id": "9357b472",
   "metadata": {},
   "outputs": [],
   "source": [
    "# With padding\n",
    "plt.imsave(os.path.join(dir_bse, \"reg_ebsd.png\"), ebsd_correct4, cmap=\"gray\")\n",
    "plt.imsave(os.path.join(dir_bse, \"reg_bse.png\"), bse3, cmap=\"gray\")\n",
    "plt.imsave(os.path.join(dir_bse, \"reg_rgb.png\"), reg_im)"
   ]
  },
  {
   "cell_type": "code",
   "execution_count": 51,
   "id": "f80a7e5f-fa62-437f-9998-21234c6b355f",
   "metadata": {},
   "outputs": [],
   "source": [
    "# Save images also without padding\n",
    "rc_out_2d_scale = np.column_stack(rc_out_2d) * scale\n",
    "r_start, c_start = np.floor(rc_out_2d_scale.min(axis=0)).astype(int)\n",
    "r_end, c_end = np.ceil(rc_out_2d_scale.max(axis=0)).astype(int)\n",
    "sl = (slice(r_start, r_end), slice(c_start, c_end))\n",
    "plt.imsave(os.path.join(dir_bse, \"reg_ebsd_no_padding.png\"), ebsd_correct4[sl], cmap=\"gray\")\n",
    "plt.imsave(os.path.join(dir_bse, \"reg_bse_no_padding.png\"), bse3[sl], cmap=\"gray\")\n",
    "plt.imsave(os.path.join(dir_bse, \"reg_rgb_no_padding.png\"), reg_im[sl])"
   ]
  },
  {
   "cell_type": "markdown",
   "id": "99b9acd8",
   "metadata": {},
   "source": [
    "## 4. Upsample source image before particle detection"
   ]
  },
  {
   "cell_type": "code",
   "execution_count": 52,
   "id": "0434ca37",
   "metadata": {},
   "outputs": [],
   "source": [
    "bse4 = skt.rescale(bse, upscale_factor)\n",
    "plt.imsave(os.path.join(dir_bse, \"bse_rescaled.png\"), bse4, cmap=\"gray\")"
   ]
  },
  {
   "cell_type": "markdown",
   "id": "eab16c27",
   "metadata": {},
   "source": [
    "## 5. Detect particles in upscaled source image\n",
    "\n",
    "Done in notebook `particle_detection.ipynb`."
   ]
  },
  {
   "cell_type": "markdown",
   "id": "c210d506",
   "metadata": {},
   "source": [
    "## 6. Bin particle map and extract only ROI"
   ]
  },
  {
   "cell_type": "code",
   "execution_count": 85,
   "id": "ba152323",
   "metadata": {},
   "outputs": [],
   "source": [
    "labels = np.load(os.path.join(dir_bse, \"bse_labels_filled_filtered.npy\"))"
   ]
  },
  {
   "cell_type": "code",
   "execution_count": 86,
   "id": "0c093d45",
   "metadata": {},
   "outputs": [],
   "source": [
    "row_labels, col_labels = labels.shape\n",
    "row_new = row_labels - (row_labels % x_bin)\n",
    "col_new = col_labels - (col_labels % x_bin)\n",
    "labels2 = labels[:row_new, :col_new]\n",
    "view = sku.view_as_blocks(labels2, block_shape=(x_bin, x_bin))"
   ]
  },
  {
   "cell_type": "code",
   "execution_count": 20,
   "id": "20777356",
   "metadata": {},
   "outputs": [],
   "source": [
    "def count_particles(block):\n",
    "    unique_labels = np.unique(block)\n",
    "    particle_labels = unique_labels > 0\n",
    "    return np.count_nonzero(particle_labels)\n",
    "\n",
    "\n",
    "n_particles = np.zeros(view.shape[:2])\n",
    "for idx in np.ndindex(view.shape[:-2]):\n",
    "    n_particles[idx] = count_particles(view[idx])"
   ]
  },
  {
   "cell_type": "markdown",
   "id": "7239e0b9",
   "metadata": {},
   "source": [
    "Make particle map of equal size to new EBSD data"
   ]
  },
  {
   "cell_type": "code",
   "execution_count": 21,
   "id": "187cf33e",
   "metadata": {},
   "outputs": [],
   "source": [
    "n_particles_roi = np.zeros(out_shape, dtype=int)\n",
    "nr_part, nc_part = n_particles.shape\n",
    "n_particles_roi[:nr_part, :nc_part] = n_particles\n",
    "\n",
    "# Mask to ROI only\n",
    "mask = np.zeros(out_shape, dtype=bool)\n",
    "mask[rc_out_2d] = True\n",
    "n_particles_roi[~mask] = 0"
   ]
  },
  {
   "cell_type": "markdown",
   "id": "86ecfbae",
   "metadata": {},
   "source": [
    "Check overlap"
   ]
  },
  {
   "cell_type": "code",
   "execution_count": 23,
   "id": "bad1b723",
   "metadata": {},
   "outputs": [],
   "source": [
    "fig, ax = plt.subplots(ncols=2, sharex=True, sharey=True)\n",
    "ax[0].imshow(ebsd_correct, cmap=\"gray\")\n",
    "ax[1].imshow(n_particles_roi);"
   ]
  },
  {
   "cell_type": "markdown",
   "id": "cd514c76",
   "metadata": {},
   "source": [
    "Save to file"
   ]
  },
  {
   "cell_type": "code",
   "execution_count": 58,
   "id": "a46ae454",
   "metadata": {},
   "outputs": [],
   "source": [
    "np.save(os.path.join(dir_bse, \"n_particles\"), n_particles)\n",
    "np.save(os.path.join(dir_bse, \"n_particles_roi\"), n_particles_roi)"
   ]
  },
  {
   "cell_type": "markdown",
   "id": "9189bcd6",
   "metadata": {},
   "source": [
    "## 7. Create new crystal map with corrected coordinates and particle locations"
   ]
  },
  {
   "cell_type": "code",
   "execution_count": 19,
   "id": "8435ae1c",
   "metadata": {},
   "outputs": [],
   "source": [
    "xmap_refori = oio.load(os.path.join(dir_kp, \"xmap_refori.h5\"))\n",
    "xmap_refori.scan_unit = \"um\""
   ]
  },
  {
   "cell_type": "markdown",
   "id": "301d4b74",
   "metadata": {},
   "source": [
    "Get BSE ROI to insert into crystal map"
   ]
  },
  {
   "cell_type": "code",
   "execution_count": 20,
   "id": "c554f13f",
   "metadata": {},
   "outputs": [],
   "source": [
    "# Rescale\n",
    "bse5 = skt.rescale(bse, delta[\"bse\"] / delta[\"ebsd\"])\n",
    "\n",
    "# Pad\n",
    "pad_bse = np.array(out_shape) - np.array(bse5.shape)\n",
    "bse_roi = np.pad(bse5, ((0, pad_bse[0]), (0, pad_bse[1])))\n",
    "\n",
    "# Mask\n",
    "bse_roi[~mask] = 0"
   ]
  },
  {
   "cell_type": "markdown",
   "id": "bdc0a60f",
   "metadata": {},
   "source": [
    "Map EBSD orientations, phase IDs etc."
   ]
  },
  {
   "cell_type": "code",
   "execution_count": 61,
   "id": "17e34143",
   "metadata": {},
   "outputs": [],
   "source": [
    "# Rotations\n",
    "rot_out = Rotation.identity((out_size,))\n",
    "rot_out[rc_out_1d] = xmap_refori._rotations[rc_in_1d]\n",
    "\n",
    "# Phase ID\n",
    "phase_id_out = -np.ones(out_size, dtype=int)\n",
    "phase_id_out[rc_out_1d] = xmap_refori._phase_id[rc_in_1d]\n",
    "\n",
    "# Spatial coordinates\n",
    "y_out, x_out = rc_out.T * xmap_refori.dx\n",
    "\n",
    "# Current properties\n",
    "prop_out = {}\n",
    "for k, v in xmap_refori.prop.items():\n",
    "    prop = np.full(out_size, fill_value=0, dtype=v.dtype)\n",
    "    prop[rc_out_1d] = v[rc_in_1d]\n",
    "    prop_out[k] = prop\n",
    "\n",
    "# New properties\n",
    "r_shift, c_shift = rc_shift.T\n",
    "prop_out[\"r_shift\"] = r_shift\n",
    "prop_out[\"c_shift\"] = c_shift\n",
    "prop_out[\"n_particles\"] = n_particles_roi.flatten()\n",
    "prop_out[\"bse\"] = bse_roi.flatten()\n",
    "\n",
    "# Is in data mask\n",
    "is_in_data_out = np.zeros(out_size, dtype=bool)\n",
    "is_in_data_out[rc_out_1d] = True\n",
    "\n",
    "# Get new crystal map\n",
    "xmap_refori2 = CrystalMap(\n",
    "    rotations=rot_out,\n",
    "    phase_id=phase_id_out,\n",
    "    phase_list=xmap_refori.phases,\n",
    "    x=x_out,\n",
    "    y=y_out,\n",
    "    prop=prop_out,\n",
    "    scan_unit=xmap_refori.scan_unit,\n",
    "    is_in_data=is_in_data_out,\n",
    ")"
   ]
  },
  {
   "cell_type": "code",
   "execution_count": 62,
   "id": "53a1dad3",
   "metadata": {},
   "outputs": [],
   "source": [
    "fig, ax = plt.subplots(ncols=4, sharex=True, sharey=True)\n",
    "ax[0].imshow(xmap_refori2.get_map_data(\"scores\"), cmap=\"gray\")\n",
    "ax[1].imshow(xmap_refori2.get_map_data(\"n_particles\"))\n",
    "ax[2].imshow(xmap_refori2.get_map_data(\"bse\"), cmap=\"gray\")\n",
    "ax[3].imshow(xmap_refori2.get_map_data(\"r_shift\"), cmap=\"seismic\");"
   ]
  },
  {
   "cell_type": "code",
   "execution_count": 63,
   "id": "f6510181",
   "metadata": {},
   "outputs": [],
   "source": [
    "oio.save(os.path.join(dir_kp, \"xmap_refori2.h5\"), xmap_refori2, overwrite=True)\n",
    "oio.save(\n",
    "    os.path.join(dir_kp, \"xmap_refori2.ang\"),\n",
    "    xmap_refori2,\n",
    "    extra_prop=(\"n_particles\", \"r_shift\", \"c_shift\", \"bse\"),\n",
    "    overwrite=True\n",
    ")"
   ]
  },
  {
   "cell_type": "markdown",
   "id": "2808eb63-c974-41a2-90e7-6303bca60d90",
   "metadata": {},
   "source": [
    "Compare map areas before and after correction"
   ]
  },
  {
   "cell_type": "code",
   "execution_count": 64,
   "id": "ac2ad840-0f1a-4d40-846b-37e6e8a05721",
   "metadata": {},
   "outputs": [
    {
     "name": "stdout",
     "output_type": "stream",
     "text": [
      "ROI\n",
      "--- \n",
      "Nominal (square):\t [85.3 85.3] um^2 \n",
      "Actual (non-square):\t [98.3 83.9] um^2\n",
      "\n",
      "Area\n",
      "---- \n",
      "Nominal:\t\t 7276.09 um^2 \n",
      "Actual:\t\t\t 7834.97 um^2 \n",
      "Actual / nominal:\t 107.7%\n"
     ]
    }
   ],
   "source": [
    "# Shape of ROI\n",
    "nominal_shape = np.array(xmap_refori.shape) * xmap_refori.dx\n",
    "actual_shape = (\n",
    "    xmap_refori2.y.max() - xmap_refori2.y.min(),\n",
    "    xmap_refori2.x.max() - xmap_refori2.x.min()\n",
    ")\n",
    "print(\n",
    "    \"ROI\\n---\",\n",
    "    \"\\nNominal (square):\\t\", np.round(nominal_shape, decimals=1), \"um^2\",\n",
    "    \"\\nActual (non-square):\\t\", np.round(actual_shape, decimals=1), \"um^2\"\n",
    ")\n",
    "\n",
    "# Total area of scanned points\n",
    "nominal_area = xmap_refori.size * xmap_refori.dx ** 2\n",
    "actual_area = xmap_refori2.size * xmap_refori2.dx ** 2\n",
    "print(\n",
    "    \"\\nArea\\n----\",\n",
    "    f\"\\nNominal:\\t\\t {nominal_area:.2f} um^2\",\n",
    "    f\"\\nActual:\\t\\t\\t {actual_area:.2f} um^2\",\n",
    "    f\"\\nActual / nominal:\\t {100 * actual_area / nominal_area:.1f}%\",\n",
    ")"
   ]
  },
  {
   "cell_type": "markdown",
   "id": "6cf7e851-f1da-4881-a8a4-4f3d62cea76c",
   "metadata": {},
   "source": [
    "## Compare similarity of correct EBSD map and BSE image"
   ]
  },
  {
   "cell_type": "code",
   "execution_count": 24,
   "id": "c4bf7068-843b-42ed-a133-59673a5bb432",
   "metadata": {},
   "outputs": [],
   "source": [
    "def norm_data(a):\n",
    "    return (a - np.mean(a)) / np.std(a)\n",
    "\n",
    "\n",
    "def ncc(a, b):\n",
    "    return np.sum(norm_data(a) * norm_data(b)) / a.size\n",
    "\n",
    "\n",
    "def draw_random_control_points(cp_bse, cp_ebsd, n):\n",
    "    n_all = cp_bse.shape[0]\n",
    "    keep_idx = np.random.choice(np.arange(n_all), size=n_all - n, replace=False)\n",
    "    return cp_bse_scaled[keep_idx], cp_ebsd[keep_idx], keep_idx"
   ]
  },
  {
   "cell_type": "markdown",
   "id": "ffec9e98-681a-4e07-8a5a-e70ab8250ed7",
   "metadata": {},
   "source": [
    "Similarity with all CPs"
   ]
  },
  {
   "cell_type": "code",
   "execution_count": null,
   "id": "bc05ea75-8c0d-48fb-8b35-45a374815d87",
   "metadata": {},
   "outputs": [],
   "source": [
    "ncc(ebsd_correct3[mask2], bse2[mask2])"
   ]
  },
  {
   "cell_type": "code",
   "execution_count": 26,
   "id": "ef18f561-e395-446f-ae11-d0d299019de9",
   "metadata": {},
   "outputs": [],
   "source": [
    "scale = delta[\"ebsd\"] / delta[\"bse\"]\n",
    "\n",
    "out_shape = out_shapes[sample]\n",
    "out_size = int(np.prod(out_shape))\n",
    "rc_out = np.indices(out_shape, dtype=float).reshape((2, -1)).T\n",
    "n_chunks = 100\n",
    "chunk_size = int(np.ceil(out_size / n_chunks))"
   ]
  },
  {
   "cell_type": "markdown",
   "id": "5722f6f0-f561-4058-aa11-c70a48f5b8a3",
   "metadata": {},
   "source": [
    "Remove CPs in steps and perform 30 trials per n removals (takes about 10 minutes with the given parameters)"
   ]
  },
  {
   "cell_type": "code",
   "execution_count": 28,
   "id": "75a51288-42b9-4654-bdc3-5e64ff41459b",
   "metadata": {},
   "outputs": [
    {
     "name": "stdout",
     "output_type": "stream",
     "text": [
      "[########################################] | 100% Completed |  1min  9.7s\n"
     ]
    },
    {
     "name": "stderr",
     "output_type": "stream",
     "text": [
      "100%|████████████████████████████████████████████████████████████████████| 30/30 [00:23<00:00,  1.26it/s]\n"
     ]
    },
    {
     "name": "stdout",
     "output_type": "stream",
     "text": [
      "5:  0.36223404223307476\n",
      "[########################################] | 100% Completed |  1min  8.5s\n"
     ]
    },
    {
     "name": "stderr",
     "output_type": "stream",
     "text": [
      "100%|████████████████████████████████████████████████████████████████████| 30/30 [00:22<00:00,  1.32it/s]\n"
     ]
    },
    {
     "name": "stdout",
     "output_type": "stream",
     "text": [
      "10:  0.36156340182056185\n",
      "[########################################] | 100% Completed |  1min  3.7s\n"
     ]
    },
    {
     "name": "stderr",
     "output_type": "stream",
     "text": [
      "100%|████████████████████████████████████████████████████████████████████| 30/30 [00:22<00:00,  1.31it/s]\n"
     ]
    },
    {
     "name": "stdout",
     "output_type": "stream",
     "text": [
      "15:  0.3610413311108823\n",
      "[########################################] | 100% Completed |  1min  0.0s\n"
     ]
    },
    {
     "name": "stderr",
     "output_type": "stream",
     "text": [
      "100%|████████████████████████████████████████████████████████████████████| 30/30 [00:24<00:00,  1.23it/s]\n"
     ]
    },
    {
     "name": "stdout",
     "output_type": "stream",
     "text": [
      "20:  0.3603412600571475\n",
      "[########################################] | 100% Completed |  1min  2.6s\n"
     ]
    },
    {
     "name": "stderr",
     "output_type": "stream",
     "text": [
      "100%|████████████████████████████████████████████████████████████████████| 30/30 [00:24<00:00,  1.23it/s]\n"
     ]
    },
    {
     "name": "stdout",
     "output_type": "stream",
     "text": [
      "25:  0.35879416686331195\n",
      "[########################################] | 100% Completed | 58.3s\n"
     ]
    },
    {
     "name": "stderr",
     "output_type": "stream",
     "text": [
      "100%|████████████████████████████████████████████████████████████████████| 30/30 [00:23<00:00,  1.29it/s]\n"
     ]
    },
    {
     "name": "stdout",
     "output_type": "stream",
     "text": [
      "30:  0.3585648497997954\n",
      "[########################################] | 100% Completed | 52.2s\n"
     ]
    },
    {
     "name": "stderr",
     "output_type": "stream",
     "text": [
      "100%|████████████████████████████████████████████████████████████████████| 30/30 [00:23<00:00,  1.29it/s]\n"
     ]
    },
    {
     "name": "stdout",
     "output_type": "stream",
     "text": [
      "35:  0.35645777697003833\n",
      "[########################################] | 100% Completed | 43.0s\n"
     ]
    },
    {
     "name": "stderr",
     "output_type": "stream",
     "text": [
      "100%|████████████████████████████████████████████████████████████████████| 30/30 [00:23<00:00,  1.27it/s]\n"
     ]
    },
    {
     "name": "stdout",
     "output_type": "stream",
     "text": [
      "40:  0.35513274687805024\n",
      "[########################################] | 100% Completed | 36.8s\n"
     ]
    },
    {
     "name": "stderr",
     "output_type": "stream",
     "text": [
      "100%|████████████████████████████████████████████████████████████████████| 30/30 [00:23<00:00,  1.30it/s]\n"
     ]
    },
    {
     "name": "stdout",
     "output_type": "stream",
     "text": [
      "45:  0.3521418101103163\n",
      "[########################################] | 100% Completed | 37.9s\n"
     ]
    },
    {
     "name": "stderr",
     "output_type": "stream",
     "text": [
      "100%|████████████████████████████████████████████████████████████████████| 30/30 [00:23<00:00,  1.26it/s]\n"
     ]
    },
    {
     "name": "stdout",
     "output_type": "stream",
     "text": [
      "50:  0.35007203623307753\n",
      "[########################################] | 100% Completed | 36.1s\n"
     ]
    },
    {
     "name": "stderr",
     "output_type": "stream",
     "text": [
      "100%|████████████████████████████████████████████████████████████████████| 30/30 [00:22<00:00,  1.31it/s]\n"
     ]
    },
    {
     "name": "stdout",
     "output_type": "stream",
     "text": [
      "55:  0.3442872196966677\n",
      "[########################################] | 100% Completed | 27.8s\n"
     ]
    },
    {
     "name": "stderr",
     "output_type": "stream",
     "text": [
      "100%|████████████████████████████████████████████████████████████████████| 30/30 [00:23<00:00,  1.29it/s]\n"
     ]
    },
    {
     "name": "stdout",
     "output_type": "stream",
     "text": [
      "60:  0.3335134814265788\n",
      "[########################################] | 100% Completed | 23.8s\n"
     ]
    },
    {
     "name": "stderr",
     "output_type": "stream",
     "text": [
      "100%|████████████████████████████████████████████████████████████████████| 30/30 [00:23<00:00,  1.30it/s]\n"
     ]
    },
    {
     "name": "stdout",
     "output_type": "stream",
     "text": [
      "65:  0.32213961978296696\n",
      "[########################################] | 100% Completed |  8.2s\n"
     ]
    },
    {
     "name": "stderr",
     "output_type": "stream",
     "text": [
      "100%|████████████████████████████████████████████████████████████████████| 30/30 [00:23<00:00,  1.29it/s]\n"
     ]
    },
    {
     "name": "stdout",
     "output_type": "stream",
     "text": [
      "70:  0.29720083351542215\n",
      "[########################################] | 100% Completed |  6.1s\n"
     ]
    },
    {
     "name": "stderr",
     "output_type": "stream",
     "text": [
      "100%|████████████████████████████████████████████████████████████████████| 30/30 [00:23<00:00,  1.27it/s]"
     ]
    },
    {
     "name": "stdout",
     "output_type": "stream",
     "text": [
      "75:  0.2596977591041985\n"
     ]
    },
    {
     "name": "stderr",
     "output_type": "stream",
     "text": [
      "\n"
     ]
    }
   ],
   "source": [
    "subtract = [5, 10, 15, 20, 25, 30, 35, 40, 45, 50, 55, 60, 65, 70, 75]\n",
    "n_trials = 30\n",
    "\n",
    "ncc_scores = np.zeros((len(subtract), n_trials))\n",
    "n_cps_all = cp_ebsd.shape[0]\n",
    "cps_keep_idx = np.zeros((len(subtract), n_trials, n_cps_all), dtype=int)\n",
    "\n",
    "for i, sub in enumerate(subtract):\n",
    "    delayed_list = []\n",
    "    for trial in range(n_trials):\n",
    "        cp_bse_scaled2, cp_ebsd2, keep_idx = draw_random_control_points(cp_bse_scaled, cp_ebsd, sub)\n",
    "        cps_keep_idx[i, trial, :n_cps_all - sub] = keep_idx\n",
    "        for idx in range(0, n_chunks * chunk_size, chunk_size):\n",
    "            rc_chunk = rc_out[idx:idx + chunk_size]\n",
    "            rc_in_part = dask.delayed(morphops.tps_warp)(X=cp_bse_scaled2, Y=cp_ebsd2, pts=rc_chunk)\n",
    "            delayed_list.append(rc_in_part)\n",
    "\n",
    "    with ProgressBar():\n",
    "        rc_in_all = np.stack(dask.compute(*delayed_list)).reshape((n_trials, out_size, 2))\n",
    "\n",
    "    for trial in trange(n_trials):\n",
    "        rc_in = rc_in_all[trial]\n",
    "        rc_in_1d, rc_in_2d, rc_out_1d, rc_out_2d = get_mapping_arrays(\n",
    "            rc_in=rc_in, in_shape=ebsd.shape, out_shape=out_shape\n",
    "        )\n",
    "        \n",
    "        ebsd_correct = map_in_image(ebsd, out_shape, rc_in_2d, rc_out_2d)\n",
    "        ebsd_correct2 = skt.rescale(ebsd_correct, scale)\n",
    "        ebsd_correct3 = ebsd_correct2[:bse.shape[0], :bse.shape[1]]\n",
    "        \n",
    "        mask = np.zeros(out_shape, dtype=bool)\n",
    "        mask[rc_out_2d] = True\n",
    "        mask2 = skt.rescale(mask, scale).astype(bool)\n",
    "        mask2 = mask2[:bse.shape[0], :bse.shape[1]]\n",
    "\n",
    "        ncc_scores[i, trial] = ncc(ebsd_correct3[mask2], bse[mask2])\n",
    "    print(f\"{sub}: \", ncc_scores[i].mean())"
   ]
  },
  {
   "cell_type": "markdown",
   "id": "e6407503-73bc-4437-be98-70cd85fc1422",
   "metadata": {},
   "source": [
    "Save results to file"
   ]
  },
  {
   "cell_type": "code",
   "execution_count": 30,
   "id": "4acd783f-e468-4493-914c-193e9511f4ea",
   "metadata": {},
   "outputs": [],
   "source": [
    "np.save(os.path.join(dir_bse, \"cps_keep_idx\"), cps_keep_idx)\n",
    "np.save(os.path.join(dir_bse, \"ncc_scores\"), ncc_scores)"
   ]
  },
  {
   "cell_type": "markdown",
   "id": "9b8d647a-68ed-44d6-a3fd-4939f8543230",
   "metadata": {},
   "source": [
    "Plot absolute decrease in $r$"
   ]
  },
  {
   "cell_type": "code",
   "execution_count": 90,
   "id": "d0ec8d8b-6d2e-4019-840c-fb47d871b6cf",
   "metadata": {},
   "outputs": [],
   "source": [
    "n_cps_used = n_cps_all - np.array(subtract)\n",
    "ncc_scores_mean = ncc_scores.mean(axis=1)\n",
    "conf_int = 1.96 * ncc_scores.std(axis=1) / np.sqrt(n_trials)\n",
    "\n",
    "# Prepend all CPs\n",
    "n_cps_used = np.append(n_cps_used[::-1], 82)[::-1]\n",
    "ncc_scores_mean = np.append(ncc_scores_mean[::-1], ncc(ebsd_correct3[mask2], bse2[mask2]))[::-1]\n",
    "conf_int = np.append(conf_int[::-1], 0)[::-1]\n",
    "\n",
    "fig, ax = plt.subplots()\n",
    "ax.plot(n_cps_used, ncc_scores_mean)\n",
    "ax.fill_between(n_cps_used, y1=ncc_scores_mean - conf_int, y2=ncc_scores_mean + conf_int, alpha=0.5)\n",
    "ax.invert_xaxis()\n",
    "ax.set_xlabel(r\"$n$ control points\")\n",
    "ax.set_ylabel(r\"Normalized cross correlation $r$\")\n",
    "fig.tight_layout()\n",
    "fig.savefig(os.path.join(dir_bse, \"ncc_vs_n_cps.png\"), **savefig_kw)"
   ]
  },
  {
   "cell_type": "markdown",
   "id": "367214cf-42df-4c9a-acb0-26d19481e45d",
   "metadata": {},
   "source": [
    "Plot relative increase in the difference of $r$"
   ]
  },
  {
   "cell_type": "code",
   "execution_count": 92,
   "id": "53ef67e4-26cb-4b67-b6c8-54b674a27484",
   "metadata": {},
   "outputs": [],
   "source": [
    "ncc_diff = np.append(np.diff(ncc_scores_mean[::-1]), 0)[::-1]\n",
    "ncc_diff_rel = 100 * ncc_diff / ncc_scores_mean\n",
    "\n",
    "fig, ax = plt.subplots()\n",
    "ax.plot(n_cps_used, ncc_diff_rel)\n",
    "ax.invert_xaxis()\n",
    "ax.set_xlabel(r\"$n$ control points\")\n",
    "ax.set_ylabel(r\"Relative error in NCC [%], $100 \\cdot (r_i - r_{i + 1}) / r_i$\")\n",
    "fig.tight_layout()\n",
    "fig.savefig(os.path.join(dir_bse, \"ncc_error_vs_n_cps.png\"), **savefig_kw)"
   ]
  }
 ],
 "metadata": {
  "kernelspec": {
   "display_name": "Python 3 (ipykernel)",
   "language": "python",
   "name": "python3"
  },
  "language_info": {
   "codemirror_mode": {
    "name": "ipython",
    "version": 3
   },
   "file_extension": ".py",
   "mimetype": "text/x-python",
   "name": "python",
   "nbconvert_exporter": "python",
   "pygments_lexer": "ipython3",
   "version": "3.9.12"
  }
 },
 "nbformat": 4,
 "nbformat_minor": 5
}
