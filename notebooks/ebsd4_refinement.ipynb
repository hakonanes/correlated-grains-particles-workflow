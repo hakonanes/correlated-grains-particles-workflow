{
 "cells": [
  {
   "cell_type": "markdown",
   "id": "aae608cd-d5f5-435c-95af-329b5602ce66",
   "metadata": {},
   "source": [
    "# Refinement of EBSD patterns from an Al-Mn alloy\n",
    "\n",
    "Håkon Wiik Ånes (hakon.w.anes@ntnu.no)\n",
    "\n",
    "See the relevant package documentation for more details on the packages used here:\n",
    "* kikuchipy: https://kikuchipy.org/en/stable/\n",
    "* orix: https://orix.readthedocs.io/en/stable/\n",
    "\n",
    "Import required packages and print their versions"
   ]
  },
  {
   "cell_type": "code",
   "execution_count": 1,
   "id": "58dde795-a0fa-4b27-a856-77d6b7e1a910",
   "metadata": {},
   "outputs": [
    {
     "name": "stderr",
     "output_type": "stream",
     "text": [
      "WARNING:hyperspy.api:The ipywidgets GUI elements are not available, probably because the hyperspy_gui_ipywidgets package is not installed.\n",
      "WARNING:hyperspy.api:The traitsui GUI elements are not available, probably because the hyperspy_gui_traitsui package is not installed.\n"
     ]
    },
    {
     "name": "stdout",
     "output_type": "stream",
     "text": [
      "2022-01-21\n"
     ]
    }
   ],
   "source": [
    "# Replace \"inline\" with \"qt5\" from the pyqt package for interactive plotting\n",
    "%matplotlib inline\n",
    "\n",
    "from datetime import date\n",
    "import importlib_metadata\n",
    "import os\n",
    "\n",
    "import kikuchipy as kp\n",
    "import matplotlib.pyplot as plt\n",
    "import numpy as np\n",
    "from orix import io, plot\n",
    "from orix.vector import Vector3d\n",
    "\n",
    "\n",
    "# Directories\n",
    "dset_no = 1\n",
    "dir_user = \"C:/Users/hakonwii\"\n",
    "dir_mp = os.path.join(dir_user, \"ebsd_simulations\")\n",
    "dir_data = os.path.join(dir_user, \"p/300c\", str(dset_no))\n",
    "\n",
    "savefig_kw = dict(bbox_inches=\"tight\", pad_inches=0, dpi=150)\n",
    "suffix = \"refori\"\n",
    "\n",
    "print(\"Run date: \", date.today())\n",
    "print(\"\\nSoftware versions\\n------------------\")\n",
    "for pkg in [\"kikuchipy\", \"matplotlib\", \"numpy\", \"orix\"]:\n",
    "    if pkg == \"numpy\":\n",
    "        ver = np.__version__\n",
    "    else:\n",
    "        ver = importlib_metadata.version(pkg)\n",
    "    print(pkg, \":\", ver)"
   ]
  },
  {
   "cell_type": "markdown",
   "id": "83feb905-ca05-418b-a80b-3998733cb2c4",
   "metadata": {},
   "source": [
    "## Set up refinement"
   ]
  },
  {
   "cell_type": "markdown",
   "id": "58fb6d33-5fd0-4c8b-b45e-3ffea04c343c",
   "metadata": {},
   "source": [
    "Load data (lazily)"
   ]
  },
  {
   "cell_type": "code",
   "execution_count": 2,
   "id": "6ef4cbf1-4802-4c7a-87ce-f4b979128e49",
   "metadata": {},
   "outputs": [
    {
     "name": "stdout",
     "output_type": "stream",
     "text": [
      "<Axes manager, axes: (919, 919|96, 96)>\n",
      "            Name |   size |  index |  offset |   scale |  units \n",
      "================ | ====== | ====== | ======= | ======= | ====== \n",
      "               x |    919 |      0 |       0 |     0.1 |     um \n",
      "               y |    919 |      0 |       0 |     0.1 |     um \n",
      "---------------- | ------ | ------ | ------- | ------- | ------ \n",
      "              dx |     96 |        |       0 |       1 |     um \n",
      "              dy |     96 |        |       0 |       1 |     um \n"
     ]
    }
   ],
   "source": [
    "s = kp.load(os.path.join(dir_data, \"pattern_sda.h5\"), lazy=True)\n",
    "sig_shape = s.axes_manager.signal_shape[::-1]\n",
    "print(s.axes_manager)"
   ]
  },
  {
   "cell_type": "markdown",
   "id": "4916caf8-57fb-40c6-9269-7259c8a28ab3",
   "metadata": {},
   "source": [
    "Extract relevant metadata"
   ]
  },
  {
   "cell_type": "code",
   "execution_count": null,
   "id": "4be95df7-bfb4-43b8-8e17-ff29a0de4467",
   "metadata": {},
   "outputs": [],
   "source": [
    "md_sem = s.metadata.Acquisition_instrument.SEM\n",
    "md_ebsd = md_sem.Detector.EBSD\n",
    "sample_tilt = md_ebsd.sample_tilt  # Degrees\n",
    "camera_tilt = md_ebsd.azimuth_angle  # Degrees\n",
    "energy = md_sem.beam_energy  # kV"
   ]
  },
  {
   "cell_type": "markdown",
   "id": "420381c9-1822-4044-bd0c-0f7327661ab0",
   "metadata": {},
   "source": [
    "Define detector's view of the sample, using the average projection center (PC)\n",
    "found from optimization with `PyEBSDIndex`"
   ]
  },
  {
   "cell_type": "code",
   "execution_count": 3,
   "id": "2519f58c-2d8c-4bca-835f-72a1360fa64e",
   "metadata": {},
   "outputs": [
    {
     "data": {
      "text/plain": [
       "EBSDDetector (96, 96), px_size 1 um, binning 1, tilt 0, azimuthal 0, pc (0.488, 0.188, 0.546)"
      ]
     },
     "execution_count": 3,
     "metadata": {},
     "output_type": "execute_result"
    }
   ],
   "source": [
    "pcs = np.loadtxt(os.path.join(dir_data, \"cal_pcs.txt\"), usecols=[1, 2, 3])\n",
    "pc = pcs.mean(axis=0)\n",
    "print(pc)\n",
    "\n",
    "detector = kp.detectors.EBSDDetector(\n",
    "    shape=sig_shape,\n",
    "    pc=pc,\n",
    "    sample_tilt=sample_tilt,\n",
    "    tilt=camera_tilt,\n",
    "    convention=\"edax\",\n",
    ")\n",
    "detector"
   ]
  },
  {
   "cell_type": "code",
   "execution_count": 4,
   "id": "4443c1b2-61ef-4041-9ef0-3298eee05c44",
   "metadata": {},
   "outputs": [],
   "source": [
    "fig, _ = detector.plot(coordinates=\"gnomonic\", pattern=s.inav[0, 0].data.compute(), return_fig_ax=True)\n",
    "fig.savefig(os.path.join(dir_data, f\"detector_{suffix}.png\"), **savefig_kwds)"
   ]
  },
  {
   "cell_type": "markdown",
   "id": "86baa8fe-b8d7-4fdc-b0d7-b971934e3150",
   "metadata": {},
   "source": [
    "Load master pattern"
   ]
  },
  {
   "cell_type": "code",
   "execution_count": 5,
   "id": "b73758b0-5655-48d6-98d7-8a7ac7884315",
   "metadata": {},
   "outputs": [
    {
     "name": "stdout",
     "output_type": "stream",
     "text": [
      "<EBSDMasterPattern, title: hakonwii\\ebsd_simulations\\al\\al_mc_mp_20kv, dimensions: (|1001, 1001)>\n",
      "<name: al. space group: Fm-3m. point group: m-3m. proper point group: 432. color: tab:blue>\n"
     ]
    }
   ],
   "source": [
    "mp = kp.load(\n",
    "    os.path.join(dir_mp, \"al\", \"al_mc_mp_20kv.h5\"),\n",
    "    projection=\"lambert\",\n",
    "    energy=energy,\n",
    "    hemisphere=\"north\",\n",
    ")\n",
    "mp.phase.name = \"al\""
   ]
  },
  {
   "cell_type": "markdown",
   "id": "6f3376a7-e08f-4a1f-851a-b3e91814ba4d",
   "metadata": {},
   "source": [
    "Load DI results"
   ]
  },
  {
   "cell_type": "code",
   "execution_count": 6,
   "id": "d7f1a976-2828-4a39-b1d8-88d20fc8d1f9",
   "metadata": {},
   "outputs": [
    {
     "data": {
      "text/plain": [
       "Phase     Orientations  Name  Space group  Point group  Proper point group     Color\n",
       "    0  844561 (100.0%)    al        Fm-3m         m-3m                 432  tab:blue\n",
       "Properties: scores, simulation_indices\n",
       "Scan unit: px"
      ]
     },
     "execution_count": 6,
     "metadata": {},
     "output_type": "execute_result"
    }
   ],
   "source": [
    "xmap = io.load(os.path.join(dir_data, \"xmap.h5\"))\n",
    "xmap"
   ]
  },
  {
   "cell_type": "markdown",
   "id": "c404e069-6fc8-4f4d-8a43-9e546221bdff",
   "metadata": {},
   "source": [
    "## Refinement"
   ]
  },
  {
   "cell_type": "code",
   "execution_count": 7,
   "id": "e2320418-f3cf-4df3-b97b-3d9cfb37e73e",
   "metadata": {},
   "outputs": [
    {
     "name": "stdout",
     "output_type": "stream",
     "text": [
      "Refinement information:\n",
      "\tLocal optimization method: Nelder-Mead (minimize)\n",
      "\tKeyword arguments passed to method: {'method': 'Nelder-Mead'}\n",
      "Refining 844561 orientation(s):\n",
      "[########################################] | 100% Completed |  6hr 57min 41.4s\n",
      "Refinement speed: 33 patterns/s\n"
     ]
    }
   ],
   "source": [
    "xmap_refined = s.refine_orientation(\n",
    "    xmap=xmap,\n",
    "    detector=detector,\n",
    "    master_pattern=mp,\n",
    "    energy=energy,\n",
    "    compute=True,\n",
    ")"
   ]
  },
  {
   "cell_type": "code",
   "execution_count": 8,
   "id": "8985d28d-f3db-4d7a-ab0f-d32fb8ecde2a",
   "metadata": {},
   "outputs": [],
   "source": [
    "io.save(os.path.join(dir_data, f\"xmap_{suffix}.h5\"), xmap_refined)"
   ]
  },
  {
   "cell_type": "markdown",
   "id": "e4cbf983-56fd-42cc-9c89-a5b2042fb6ae",
   "metadata": {},
   "source": [
    "## Inspect results"
   ]
  },
  {
   "cell_type": "markdown",
   "id": "1b5b6d00-24e7-436a-b877-c997d7454d83",
   "metadata": {},
   "source": [
    "Normalized cross correlation scores"
   ]
  },
  {
   "cell_type": "code",
   "execution_count": 9,
   "id": "df5c8493-5e11-4bc1-828f-3e074b1288eb",
   "metadata": {},
   "outputs": [],
   "source": [
    "scores1d_di = xmap.scores[:, 0]\n",
    "scores2d_di = scores1d_di.reshape(xmap.shape)"
   ]
  },
  {
   "cell_type": "code",
   "execution_count": 10,
   "id": "99c31228-883c-41a2-8670-989b48590ca5",
   "metadata": {},
   "outputs": [],
   "source": [
    "scores1d = xmap_refined.scores\n",
    "scores2d = scores1d.reshape(xmap_refined.shape)"
   ]
  },
  {
   "cell_type": "code",
   "execution_count": 11,
   "id": "3e6bc11c-c79f-408c-b626-ff5df9ab1c6e",
   "metadata": {},
   "outputs": [],
   "source": [
    "plt.imsave(os.path.join(dir_data, f\"maps_ncc_{suffix}.png\"), arr=scores2d, cmap=\"gray\")"
   ]
  },
  {
   "cell_type": "code",
   "execution_count": 12,
   "id": "035e48e7-5ab6-4d40-bfa7-8916eb695780",
   "metadata": {},
   "outputs": [],
   "source": [
    "ncc_di_min = np.min(scores1d)\n",
    "ncc_di_max = np.max(scores1d)\n",
    "ncc_ori_ref_min = np.min(scores1d_di)\n",
    "ncc_ori_ref_max = np.max(scores1d_di)\n",
    "\n",
    "vmin = min([ncc_di_min, ncc_ori_ref_min])\n",
    "vmax = max([ncc_di_max, ncc_ori_ref_max])\n",
    "\n",
    "ncc_after_label = f\"NCC after {suffix}\"\n",
    "\n",
    "fig, ax = plt.subplots(ncols=2, figsize=(10, 3))\n",
    "im0 = ax[0].imshow(scores2d_di, vmin=vmin, vmax=vmax)\n",
    "im1 = ax[1].imshow(scores2d, vmin=vmin, vmax=vmax)\n",
    "fig.colorbar(im0, ax=ax[0], label=\"NCC from DI\")\n",
    "fig.colorbar(im1, ax=ax[1], label=ncc_after_label)\n",
    "for a in ax:\n",
    "    a.axis(\"off\")\n",
    "fig.tight_layout(w_pad=-1)\n",
    "fig.savefig(os.path.join(dir_data, f\"maps_ncc_comparison_{suffix}.png\"), **savefig_kwds)"
   ]
  },
  {
   "cell_type": "code",
   "execution_count": 13,
   "id": "a0aaeb16-b40d-46a8-ab0e-5fc7f503a67d",
   "metadata": {},
   "outputs": [],
   "source": [
    "bins = np.linspace(vmin, vmax, 100)\n",
    "\n",
    "fig, ax = plt.subplots(figsize=(9, 5))\n",
    "ax.hist(scores1d_di, bins, alpha=0.5, label=\"NCC from DI\");\n",
    "ax.hist(scores1d, bins, alpha=0.5, label=ncc_after_label);\n",
    "ax.set_xlabel(\"Normalized cross correlation (NCC) scores\")\n",
    "ax.set_ylabel(\"Frequency\")\n",
    "ax.legend()\n",
    "fig.tight_layout()\n",
    "fig.savefig(os.path.join(dir_data, f\"hist_ncc_comparison_{suffix}.png\"), **savefig_kwds)"
   ]
  },
  {
   "cell_type": "markdown",
   "id": "e21343a9-c982-4ad3-8c18-d6a80bfa486a",
   "metadata": {},
   "source": [
    "Orientation map comparison"
   ]
  },
  {
   "cell_type": "code",
   "execution_count": 14,
   "id": "5f6ce150-b211-4dd2-a9f5-bd1f93445286",
   "metadata": {},
   "outputs": [],
   "source": [
    "ori = xmap.orientations\n",
    "ori_ref = xmap_refined.orientations\n",
    "\n",
    "ckey = plot.IPFColorKeyTSL(xmap.phases[0].point_group)\n",
    "ckey.direction = Vector3d.xvector()\n",
    "rgb_z = ckey.orientation2color(ori)\n",
    "rgb_z_ref = ckey.orientation2color(ori_ref)\n",
    "\n",
    "mori_angle = np.rad2deg(ori.angle_with(ori_ref).data)\n",
    "vmin, vmax = np.percentile(mori_angle, q=(1, 99))\n",
    "\n",
    "fig, ax = plt.subplots(ncols=3, figsize=(14, 3))\n",
    "ax[0].imshow(rgb_z.reshape(xmap.shape + (3,)))\n",
    "ax[1].imshow(rgb_z_ref.reshape(xmap.shape + (3,)))\n",
    "im2 = ax[2].imshow(mori_angle.reshape(xmap.shape), vmin=vmin, vmax=vmax)\n",
    "fig.colorbar(im2, ax=ax[2], label=r\"Disorientation angle $\\omega$ [$^{\\circ}$]\")\n",
    "for a in ax:\n",
    "    a.axis(\"off\")\n",
    "fig.tight_layout(w_pad=-15)\n",
    "fig.savefig(os.path.join(dir_data, f\"maps_ipfx_comparison_{suffix}.png\"), **savefig_kwds)"
   ]
  },
  {
   "cell_type": "markdown",
   "id": "95c4e515-395d-4eb5-a919-00bcf6015735",
   "metadata": {},
   "source": [
    "Histogram of misorientation angle between DI and refinement orientations"
   ]
  },
  {
   "cell_type": "code",
   "execution_count": 15,
   "id": "08ea4a72-c5fc-4ccd-b789-cb0bf6ca1884",
   "metadata": {},
   "outputs": [],
   "source": [
    "fig, ax = plt.subplots(figsize=(9, 5))\n",
    "ax.hist(mori_angle, bins=50, range=(vmin, vmax))\n",
    "ax.set_xlim((vmin, vmax))\n",
    "ax.set_xlabel(\"Misorientation angle DI -> ref. $\\omega$ [$^{\\circ}$]\")\n",
    "ax.set_ylabel(\"Frequency\")\n",
    "fig.tight_layout()\n",
    "fig.savefig(os.path.join(dir_data, f\"mori_angle_di_{suffix}.png\"), **savefig_kwds)"
   ]
  },
  {
   "cell_type": "markdown",
   "id": "52d41e83-a920-4e1d-a672-77b694742605",
   "metadata": {},
   "source": [
    "Orientation maps"
   ]
  },
  {
   "cell_type": "code",
   "execution_count": 16,
   "id": "10182bc8-94c6-41d9-a224-54152e383359",
   "metadata": {},
   "outputs": [],
   "source": [
    "directions = Vector3d(((1, 0, 0), (0, 1, 0), (0, 0, 1)))\n",
    "map_shape = xmap_refined.shape\n",
    "\n",
    "fig, axes = plt.subplots(figsize=(15, 5), ncols=3)\n",
    "for ax, v, title in zip(axes, directions, (\"x\", \"y\", \"z\")):\n",
    "    ckey.direction = v\n",
    "    rgb = ckey.orientation2color(ori_ref).reshape(map_shape + (3,))\n",
    "    plt.imsave(os.path.join(dir_data, f\"maps_ipf{title}_{suffix}.png\"), rgb)\n",
    "    ax.imshow(rgb)\n",
    "    ax.axis(\"off\")\n",
    "    ax.set_title(f\"IPF {title}\")\n",
    "fig.tight_layout()\n",
    "fig.savefig(os.path.join(dir_data, f\"maps_ipf_{suffix}.png\"), **savefig_kwds)"
   ]
  }
 ],
 "metadata": {
  "kernelspec": {
   "display_name": "Python 3 (ipykernel)",
   "language": "python",
   "name": "python3"
  },
  "language_info": {
   "codemirror_mode": {
    "name": "ipython",
    "version": 3
   },
   "file_extension": ".py",
   "mimetype": "text/x-python",
   "name": "python",
   "nbconvert_exporter": "python",
   "pygments_lexer": "ipython3",
   "version": "3.9.12"
  }
 },
 "nbformat": 4,
 "nbformat_minor": 5
}
